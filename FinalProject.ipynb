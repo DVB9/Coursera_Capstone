{
 "cells": [
  {
   "cell_type": "markdown",
   "metadata": {},
   "source": [
    "# Applied Data Science Capstone: Predicting car accident severity"
   ]
  },
  {
   "cell_type": "markdown",
   "metadata": {},
   "source": [
    "## I. Introduction\n",
    "Background: The demand for vehicles rises consistently. Consequently, so does the number of vehicles on the road and the probability of involvement in traffic jams or car accidents. Traffic accidents result not only in loss of human lives but have a huge impact on economy as well.  According to the Michigan Traffic Crash Decade-At-A-Glance study, there were over 314.000 traffic accidents in US in 2017, which translate into costs around 230 billion dollars per year. Approximately 1.3 million people die yearly as a result of road traffic crashes. \n",
    "\n",
    "Problem: By collecting and analysing relevant data on car accidents, we aim to establish to what extent can:\\\n",
    "1)\tweather conditions\\\n",
    "2)\tthe total number of people involved in the collision or the number pedestrians\\\n",
    "3)\troad conditions or light conditions \\\n",
    "4)\tdriving under the influence of drugs or alcohol \\\n",
    "help us predict car accident severity.\n",
    "\n",
    "Interest: Car drivers and vulnerable road users (pedestrians, cyclists, motorcyclists) would or should be interested in an equal manner by the result of this inquiry. Having measured the impact of the abovementioned outer and inner conditions and knowing the results, one might act differently. Having established the (probable) paramount influence of drugs or alcohol in causing car accidents of great severity, authorities might decide to impose higher taxes on such vices. "
   ]
  },
  {
   "cell_type": "markdown",
   "metadata": {},
   "source": [
    "## II. Data\n",
    "### a. Data sources\n",
    "In order to answer the proposed questions, we shall use data from the SDOT Traffic Management Division, Traffic Records Group. \n",
    "The database is updated weekly since 2004 and contains all types of collisions.\n",
    "Here is the provided link to database: https://s3.us.cloud-object-storage.appdomain.cloud/cf-courses-data/CognitiveClass/DP0701EN/version-2/Data-Collisions.csv\n",
    "The metadata is to be found here: https://s3.us.cloud-object-storage.appdomain.cloud/cf-courses-data/CognitiveClass/DP0701EN/version-2/Metadata.pdf\n",
    "The database contains 37 attributes, including the severity code, the number of persons involved in the car accident, the number of pedestrians, road and light conditions, information on driving under the influence of drugs or alcohol. \n",
    "\n",
    "We shall proceed by importing the necessary libraries and reading the data."
   ]
  },
  {
   "cell_type": "code",
   "execution_count": 1,
   "metadata": {},
   "outputs": [],
   "source": [
    "import numpy as np\n",
    "import pandas as pd\n",
    "from pandas import DataFrame"
   ]
  },
  {
   "cell_type": "code",
   "execution_count": 2,
   "metadata": {},
   "outputs": [],
   "source": [
    "import itertools\n",
    "import matplotlib.pyplot as plt\n",
    "from matplotlib.ticker import NullFormatter\n",
    "import matplotlib.ticker as ticker\n",
    "from sklearn import preprocessing\n",
    "%matplotlib inline\n",
    "import pylab as pl\n",
    "import scipy.optimize as opt\n",
    "from sklearn.tree import DecisionTreeClassifier"
   ]
  },
  {
   "cell_type": "code",
   "execution_count": 3,
   "metadata": {},
   "outputs": [
    {
     "name": "stdout",
     "output_type": "stream",
     "text": [
      "--2020-08-28 06:35:33--  https://s3.us.cloud-object-storage.appdomain.cloud/cf-courses-data/CognitiveClass/DP0701EN/version-2/Data-Collisions.csv\n",
      "Resolving s3.us.cloud-object-storage.appdomain.cloud (s3.us.cloud-object-storage.appdomain.cloud)... 67.228.254.196\n",
      "Connecting to s3.us.cloud-object-storage.appdomain.cloud (s3.us.cloud-object-storage.appdomain.cloud)|67.228.254.196|:443... connected.\n",
      "HTTP request sent, awaiting response... 200 OK\n",
      "Length: 73917638 (70M) [text/csv]\n",
      "Saving to: ‘Data-Collisions.csv’\n",
      "\n",
      "100%[======================================>] 73,917,638  43.1MB/s   in 1.6s   \n",
      "\n",
      "2020-08-28 06:35:34 (43.1 MB/s) - ‘Data-Collisions.csv’ saved [73917638/73917638]\n",
      "\n"
     ]
    }
   ],
   "source": [
    "!wget -O Data-Collisions.csv https://s3.us.cloud-object-storage.appdomain.cloud/cf-courses-data/CognitiveClass/DP0701EN/version-2/Data-Collisions.csv"
   ]
  },
  {
   "cell_type": "code",
   "execution_count": 4,
   "metadata": {},
   "outputs": [
    {
     "name": "stderr",
     "output_type": "stream",
     "text": [
      "/opt/conda/envs/Python36/lib/python3.6/site-packages/IPython/core/interactiveshell.py:3020: DtypeWarning: Columns (33) have mixed types. Specify dtype option on import or set low_memory=False.\n",
      "  interactivity=interactivity, compiler=compiler, result=result)\n"
     ]
    }
   ],
   "source": [
    "df=pd.read_csv(\"Data-Collisions.csv\")"
   ]
  },
  {
   "cell_type": "code",
   "execution_count": 5,
   "metadata": {},
   "outputs": [
    {
     "data": {
      "text/plain": [
       "(194673, 38)"
      ]
     },
     "execution_count": 5,
     "metadata": {},
     "output_type": "execute_result"
    }
   ],
   "source": [
    "df.shape"
   ]
  },
  {
   "cell_type": "code",
   "execution_count": 6,
   "metadata": {},
   "outputs": [
    {
     "data": {
      "text/html": [
       "<div>\n",
       "<style scoped>\n",
       "    .dataframe tbody tr th:only-of-type {\n",
       "        vertical-align: middle;\n",
       "    }\n",
       "\n",
       "    .dataframe tbody tr th {\n",
       "        vertical-align: top;\n",
       "    }\n",
       "\n",
       "    .dataframe thead th {\n",
       "        text-align: right;\n",
       "    }\n",
       "</style>\n",
       "<table border=\"1\" class=\"dataframe\">\n",
       "  <thead>\n",
       "    <tr style=\"text-align: right;\">\n",
       "      <th></th>\n",
       "      <th>SEVERITYCODE</th>\n",
       "      <th>X</th>\n",
       "      <th>Y</th>\n",
       "      <th>OBJECTID</th>\n",
       "      <th>INCKEY</th>\n",
       "      <th>COLDETKEY</th>\n",
       "      <th>REPORTNO</th>\n",
       "      <th>STATUS</th>\n",
       "      <th>ADDRTYPE</th>\n",
       "      <th>INTKEY</th>\n",
       "      <th>...</th>\n",
       "      <th>ROADCOND</th>\n",
       "      <th>LIGHTCOND</th>\n",
       "      <th>PEDROWNOTGRNT</th>\n",
       "      <th>SDOTCOLNUM</th>\n",
       "      <th>SPEEDING</th>\n",
       "      <th>ST_COLCODE</th>\n",
       "      <th>ST_COLDESC</th>\n",
       "      <th>SEGLANEKEY</th>\n",
       "      <th>CROSSWALKKEY</th>\n",
       "      <th>HITPARKEDCAR</th>\n",
       "    </tr>\n",
       "  </thead>\n",
       "  <tbody>\n",
       "    <tr>\n",
       "      <th>0</th>\n",
       "      <td>2</td>\n",
       "      <td>-122.323148</td>\n",
       "      <td>47.703140</td>\n",
       "      <td>1</td>\n",
       "      <td>1307</td>\n",
       "      <td>1307</td>\n",
       "      <td>3502005</td>\n",
       "      <td>Matched</td>\n",
       "      <td>Intersection</td>\n",
       "      <td>37475.0</td>\n",
       "      <td>...</td>\n",
       "      <td>Wet</td>\n",
       "      <td>Daylight</td>\n",
       "      <td>NaN</td>\n",
       "      <td>NaN</td>\n",
       "      <td>NaN</td>\n",
       "      <td>10</td>\n",
       "      <td>Entering at angle</td>\n",
       "      <td>0</td>\n",
       "      <td>0</td>\n",
       "      <td>N</td>\n",
       "    </tr>\n",
       "    <tr>\n",
       "      <th>1</th>\n",
       "      <td>1</td>\n",
       "      <td>-122.347294</td>\n",
       "      <td>47.647172</td>\n",
       "      <td>2</td>\n",
       "      <td>52200</td>\n",
       "      <td>52200</td>\n",
       "      <td>2607959</td>\n",
       "      <td>Matched</td>\n",
       "      <td>Block</td>\n",
       "      <td>NaN</td>\n",
       "      <td>...</td>\n",
       "      <td>Wet</td>\n",
       "      <td>Dark - Street Lights On</td>\n",
       "      <td>NaN</td>\n",
       "      <td>6354039.0</td>\n",
       "      <td>NaN</td>\n",
       "      <td>11</td>\n",
       "      <td>From same direction - both going straight - bo...</td>\n",
       "      <td>0</td>\n",
       "      <td>0</td>\n",
       "      <td>N</td>\n",
       "    </tr>\n",
       "    <tr>\n",
       "      <th>2</th>\n",
       "      <td>1</td>\n",
       "      <td>-122.334540</td>\n",
       "      <td>47.607871</td>\n",
       "      <td>3</td>\n",
       "      <td>26700</td>\n",
       "      <td>26700</td>\n",
       "      <td>1482393</td>\n",
       "      <td>Matched</td>\n",
       "      <td>Block</td>\n",
       "      <td>NaN</td>\n",
       "      <td>...</td>\n",
       "      <td>Dry</td>\n",
       "      <td>Daylight</td>\n",
       "      <td>NaN</td>\n",
       "      <td>4323031.0</td>\n",
       "      <td>NaN</td>\n",
       "      <td>32</td>\n",
       "      <td>One parked--one moving</td>\n",
       "      <td>0</td>\n",
       "      <td>0</td>\n",
       "      <td>N</td>\n",
       "    </tr>\n",
       "    <tr>\n",
       "      <th>3</th>\n",
       "      <td>1</td>\n",
       "      <td>-122.334803</td>\n",
       "      <td>47.604803</td>\n",
       "      <td>4</td>\n",
       "      <td>1144</td>\n",
       "      <td>1144</td>\n",
       "      <td>3503937</td>\n",
       "      <td>Matched</td>\n",
       "      <td>Block</td>\n",
       "      <td>NaN</td>\n",
       "      <td>...</td>\n",
       "      <td>Dry</td>\n",
       "      <td>Daylight</td>\n",
       "      <td>NaN</td>\n",
       "      <td>NaN</td>\n",
       "      <td>NaN</td>\n",
       "      <td>23</td>\n",
       "      <td>From same direction - all others</td>\n",
       "      <td>0</td>\n",
       "      <td>0</td>\n",
       "      <td>N</td>\n",
       "    </tr>\n",
       "    <tr>\n",
       "      <th>4</th>\n",
       "      <td>2</td>\n",
       "      <td>-122.306426</td>\n",
       "      <td>47.545739</td>\n",
       "      <td>5</td>\n",
       "      <td>17700</td>\n",
       "      <td>17700</td>\n",
       "      <td>1807429</td>\n",
       "      <td>Matched</td>\n",
       "      <td>Intersection</td>\n",
       "      <td>34387.0</td>\n",
       "      <td>...</td>\n",
       "      <td>Wet</td>\n",
       "      <td>Daylight</td>\n",
       "      <td>NaN</td>\n",
       "      <td>4028032.0</td>\n",
       "      <td>NaN</td>\n",
       "      <td>10</td>\n",
       "      <td>Entering at angle</td>\n",
       "      <td>0</td>\n",
       "      <td>0</td>\n",
       "      <td>N</td>\n",
       "    </tr>\n",
       "    <tr>\n",
       "      <th>5</th>\n",
       "      <td>1</td>\n",
       "      <td>-122.387598</td>\n",
       "      <td>47.690575</td>\n",
       "      <td>6</td>\n",
       "      <td>320840</td>\n",
       "      <td>322340</td>\n",
       "      <td>E919477</td>\n",
       "      <td>Matched</td>\n",
       "      <td>Intersection</td>\n",
       "      <td>36974.0</td>\n",
       "      <td>...</td>\n",
       "      <td>Dry</td>\n",
       "      <td>Daylight</td>\n",
       "      <td>NaN</td>\n",
       "      <td>NaN</td>\n",
       "      <td>NaN</td>\n",
       "      <td>10</td>\n",
       "      <td>Entering at angle</td>\n",
       "      <td>0</td>\n",
       "      <td>0</td>\n",
       "      <td>N</td>\n",
       "    </tr>\n",
       "    <tr>\n",
       "      <th>6</th>\n",
       "      <td>1</td>\n",
       "      <td>-122.338485</td>\n",
       "      <td>47.618534</td>\n",
       "      <td>7</td>\n",
       "      <td>83300</td>\n",
       "      <td>83300</td>\n",
       "      <td>3282542</td>\n",
       "      <td>Matched</td>\n",
       "      <td>Intersection</td>\n",
       "      <td>29510.0</td>\n",
       "      <td>...</td>\n",
       "      <td>Wet</td>\n",
       "      <td>Daylight</td>\n",
       "      <td>NaN</td>\n",
       "      <td>8344002.0</td>\n",
       "      <td>NaN</td>\n",
       "      <td>10</td>\n",
       "      <td>Entering at angle</td>\n",
       "      <td>0</td>\n",
       "      <td>0</td>\n",
       "      <td>N</td>\n",
       "    </tr>\n",
       "    <tr>\n",
       "      <th>7</th>\n",
       "      <td>2</td>\n",
       "      <td>-122.320780</td>\n",
       "      <td>47.614076</td>\n",
       "      <td>9</td>\n",
       "      <td>330897</td>\n",
       "      <td>332397</td>\n",
       "      <td>EA30304</td>\n",
       "      <td>Matched</td>\n",
       "      <td>Intersection</td>\n",
       "      <td>29745.0</td>\n",
       "      <td>...</td>\n",
       "      <td>Dry</td>\n",
       "      <td>Daylight</td>\n",
       "      <td>NaN</td>\n",
       "      <td>NaN</td>\n",
       "      <td>NaN</td>\n",
       "      <td>5</td>\n",
       "      <td>Vehicle Strikes Pedalcyclist</td>\n",
       "      <td>6855</td>\n",
       "      <td>0</td>\n",
       "      <td>N</td>\n",
       "    </tr>\n",
       "    <tr>\n",
       "      <th>8</th>\n",
       "      <td>1</td>\n",
       "      <td>-122.335930</td>\n",
       "      <td>47.611904</td>\n",
       "      <td>10</td>\n",
       "      <td>63400</td>\n",
       "      <td>63400</td>\n",
       "      <td>2071243</td>\n",
       "      <td>Matched</td>\n",
       "      <td>Block</td>\n",
       "      <td>NaN</td>\n",
       "      <td>...</td>\n",
       "      <td>Dry</td>\n",
       "      <td>Daylight</td>\n",
       "      <td>NaN</td>\n",
       "      <td>6166014.0</td>\n",
       "      <td>NaN</td>\n",
       "      <td>32</td>\n",
       "      <td>One parked--one moving</td>\n",
       "      <td>0</td>\n",
       "      <td>0</td>\n",
       "      <td>N</td>\n",
       "    </tr>\n",
       "    <tr>\n",
       "      <th>9</th>\n",
       "      <td>2</td>\n",
       "      <td>-122.384700</td>\n",
       "      <td>47.528475</td>\n",
       "      <td>12</td>\n",
       "      <td>58600</td>\n",
       "      <td>58600</td>\n",
       "      <td>2072105</td>\n",
       "      <td>Matched</td>\n",
       "      <td>Intersection</td>\n",
       "      <td>34679.0</td>\n",
       "      <td>...</td>\n",
       "      <td>Dry</td>\n",
       "      <td>Daylight</td>\n",
       "      <td>NaN</td>\n",
       "      <td>6079001.0</td>\n",
       "      <td>NaN</td>\n",
       "      <td>10</td>\n",
       "      <td>Entering at angle</td>\n",
       "      <td>0</td>\n",
       "      <td>0</td>\n",
       "      <td>N</td>\n",
       "    </tr>\n",
       "  </tbody>\n",
       "</table>\n",
       "<p>10 rows × 38 columns</p>\n",
       "</div>"
      ],
      "text/plain": [
       "   SEVERITYCODE           X          Y  OBJECTID  INCKEY  COLDETKEY REPORTNO  \\\n",
       "0             2 -122.323148  47.703140         1    1307       1307  3502005   \n",
       "1             1 -122.347294  47.647172         2   52200      52200  2607959   \n",
       "2             1 -122.334540  47.607871         3   26700      26700  1482393   \n",
       "3             1 -122.334803  47.604803         4    1144       1144  3503937   \n",
       "4             2 -122.306426  47.545739         5   17700      17700  1807429   \n",
       "5             1 -122.387598  47.690575         6  320840     322340  E919477   \n",
       "6             1 -122.338485  47.618534         7   83300      83300  3282542   \n",
       "7             2 -122.320780  47.614076         9  330897     332397  EA30304   \n",
       "8             1 -122.335930  47.611904        10   63400      63400  2071243   \n",
       "9             2 -122.384700  47.528475        12   58600      58600  2072105   \n",
       "\n",
       "    STATUS      ADDRTYPE   INTKEY  ... ROADCOND                LIGHTCOND  \\\n",
       "0  Matched  Intersection  37475.0  ...      Wet                 Daylight   \n",
       "1  Matched         Block      NaN  ...      Wet  Dark - Street Lights On   \n",
       "2  Matched         Block      NaN  ...      Dry                 Daylight   \n",
       "3  Matched         Block      NaN  ...      Dry                 Daylight   \n",
       "4  Matched  Intersection  34387.0  ...      Wet                 Daylight   \n",
       "5  Matched  Intersection  36974.0  ...      Dry                 Daylight   \n",
       "6  Matched  Intersection  29510.0  ...      Wet                 Daylight   \n",
       "7  Matched  Intersection  29745.0  ...      Dry                 Daylight   \n",
       "8  Matched         Block      NaN  ...      Dry                 Daylight   \n",
       "9  Matched  Intersection  34679.0  ...      Dry                 Daylight   \n",
       "\n",
       "  PEDROWNOTGRNT  SDOTCOLNUM SPEEDING ST_COLCODE  \\\n",
       "0           NaN         NaN      NaN         10   \n",
       "1           NaN   6354039.0      NaN         11   \n",
       "2           NaN   4323031.0      NaN         32   \n",
       "3           NaN         NaN      NaN         23   \n",
       "4           NaN   4028032.0      NaN         10   \n",
       "5           NaN         NaN      NaN         10   \n",
       "6           NaN   8344002.0      NaN         10   \n",
       "7           NaN         NaN      NaN          5   \n",
       "8           NaN   6166014.0      NaN         32   \n",
       "9           NaN   6079001.0      NaN         10   \n",
       "\n",
       "                                          ST_COLDESC  SEGLANEKEY  \\\n",
       "0                                  Entering at angle           0   \n",
       "1  From same direction - both going straight - bo...           0   \n",
       "2                             One parked--one moving           0   \n",
       "3                   From same direction - all others           0   \n",
       "4                                  Entering at angle           0   \n",
       "5                                  Entering at angle           0   \n",
       "6                                  Entering at angle           0   \n",
       "7                       Vehicle Strikes Pedalcyclist        6855   \n",
       "8                             One parked--one moving           0   \n",
       "9                                  Entering at angle           0   \n",
       "\n",
       "   CROSSWALKKEY  HITPARKEDCAR  \n",
       "0             0             N  \n",
       "1             0             N  \n",
       "2             0             N  \n",
       "3             0             N  \n",
       "4             0             N  \n",
       "5             0             N  \n",
       "6             0             N  \n",
       "7             0             N  \n",
       "8             0             N  \n",
       "9             0             N  \n",
       "\n",
       "[10 rows x 38 columns]"
      ]
     },
     "execution_count": 6,
     "metadata": {},
     "output_type": "execute_result"
    }
   ],
   "source": [
    "df.head(10)"
   ]
  },
  {
   "cell_type": "markdown",
   "metadata": {},
   "source": [
    "### b. Data cleaning and feature selection"
   ]
  },
  {
   "cell_type": "code",
   "execution_count": 7,
   "metadata": {},
   "outputs": [
    {
     "data": {
      "text/plain": [
       "SEVERITYCODE        int64\n",
       "X                 float64\n",
       "Y                 float64\n",
       "OBJECTID            int64\n",
       "INCKEY              int64\n",
       "COLDETKEY           int64\n",
       "REPORTNO           object\n",
       "STATUS             object\n",
       "ADDRTYPE           object\n",
       "INTKEY            float64\n",
       "LOCATION           object\n",
       "EXCEPTRSNCODE      object\n",
       "EXCEPTRSNDESC      object\n",
       "SEVERITYCODE.1      int64\n",
       "SEVERITYDESC       object\n",
       "COLLISIONTYPE      object\n",
       "PERSONCOUNT         int64\n",
       "PEDCOUNT            int64\n",
       "PEDCYLCOUNT         int64\n",
       "VEHCOUNT            int64\n",
       "INCDATE            object\n",
       "INCDTTM            object\n",
       "JUNCTIONTYPE       object\n",
       "SDOT_COLCODE        int64\n",
       "SDOT_COLDESC       object\n",
       "INATTENTIONIND     object\n",
       "UNDERINFL          object\n",
       "WEATHER            object\n",
       "ROADCOND           object\n",
       "LIGHTCOND          object\n",
       "PEDROWNOTGRNT      object\n",
       "SDOTCOLNUM        float64\n",
       "SPEEDING           object\n",
       "ST_COLCODE         object\n",
       "ST_COLDESC         object\n",
       "SEGLANEKEY          int64\n",
       "CROSSWALKKEY        int64\n",
       "HITPARKEDCAR       object\n",
       "dtype: object"
      ]
     },
     "execution_count": 7,
     "metadata": {},
     "output_type": "execute_result"
    }
   ],
   "source": [
    "df.dtypes"
   ]
  },
  {
   "cell_type": "code",
   "execution_count": 8,
   "metadata": {},
   "outputs": [],
   "source": [
    "df.drop(['X','Y','REPORTNO','EXCEPTRSNCODE','EXCEPTRSNDESC','INCDATE','INCDTTM','SPEEDING','ST_COLDESC','HITPARKEDCAR'],axis=1,inplace=True)"
   ]
  },
  {
   "cell_type": "code",
   "execution_count": 9,
   "metadata": {},
   "outputs": [
    {
     "data": {
      "text/plain": [
       "True"
      ]
     },
     "execution_count": 9,
     "metadata": {},
     "output_type": "execute_result"
    }
   ],
   "source": [
    "df['SEVERITYCODE'].equals(df['SEVERITYCODE.1'])"
   ]
  },
  {
   "cell_type": "code",
   "execution_count": 10,
   "metadata": {},
   "outputs": [],
   "source": [
    "df.drop(['STATUS','SEVERITYCODE.1','COLLISIONTYPE','PEDCYLCOUNT','VEHCOUNT','JUNCTIONTYPE','SDOT_COLCODE','SDOT_COLDESC','INATTENTIONIND','PEDROWNOTGRNT','SDOTCOLNUM','ST_COLCODE','SEGLANEKEY','CROSSWALKKEY'],axis=1,inplace=True)"
   ]
  },
  {
   "cell_type": "code",
   "execution_count": 11,
   "metadata": {},
   "outputs": [
    {
     "data": {
      "text/plain": [
       "(194673, 14)"
      ]
     },
     "execution_count": 11,
     "metadata": {},
     "output_type": "execute_result"
    }
   ],
   "source": [
    "df.shape"
   ]
  },
  {
   "cell_type": "code",
   "execution_count": 12,
   "metadata": {},
   "outputs": [
    {
     "data": {
      "text/plain": [
       "<bound method DataFrame.drop_duplicates of         SEVERITYCODE  OBJECTID  INCKEY  COLDETKEY      ADDRTYPE   INTKEY  \\\n",
       "0                  2         1    1307       1307  Intersection  37475.0   \n",
       "1                  1         2   52200      52200         Block      NaN   \n",
       "2                  1         3   26700      26700         Block      NaN   \n",
       "3                  1         4    1144       1144         Block      NaN   \n",
       "4                  2         5   17700      17700  Intersection  34387.0   \n",
       "5                  1         6  320840     322340  Intersection  36974.0   \n",
       "6                  1         7   83300      83300  Intersection  29510.0   \n",
       "7                  2         9  330897     332397  Intersection  29745.0   \n",
       "8                  1        10   63400      63400         Block      NaN   \n",
       "9                  2        12   58600      58600  Intersection  34679.0   \n",
       "10                 1        14   48900      48900         Alley      NaN   \n",
       "11                 1        15   38800      38800  Intersection  33194.0   \n",
       "12                 1        16    2771       2771         Block      NaN   \n",
       "13                 1        17   32800      32800         Block      NaN   \n",
       "14                 2        19    1212       1212         Block      NaN   \n",
       "15                 1        20  330878     332378         Block      NaN   \n",
       "16                 2        21   46300      46300  Intersection  37365.0   \n",
       "17                 1        23   23000      23000         Block      NaN   \n",
       "18                 2        24  330833     332333         Block      NaN   \n",
       "19                 1        25   97100      97100         Block      NaN   \n",
       "20                 2        26    1347       1347         Block      NaN   \n",
       "21                 2        28    1323       1323  Intersection  36505.0   \n",
       "22                 1        29   80000      80000         Block      NaN   \n",
       "23                 1        31   28700      28700         Block      NaN   \n",
       "24                 2        33    1268       1268  Intersection  33499.0   \n",
       "25                 2        34  320932     322432         Block      NaN   \n",
       "26                 1        35  113300     113300  Intersection  29865.0   \n",
       "27                 1        36   64700      64700         Block      NaN   \n",
       "28                 1        37    1083       1083         Block      NaN   \n",
       "29                 1        38   61500      61500         Block      NaN   \n",
       "...              ...       ...     ...        ...           ...      ...   \n",
       "194643             1    219510  307577     308857         Block      NaN   \n",
       "194644             1    219511  312117     313537  Intersection  30479.0   \n",
       "194645             2    219512  307692     308972  Intersection  29973.0   \n",
       "194646             1    219513  312289     313709         Block      NaN   \n",
       "194647             2    219514  308575     309855         Block      NaN   \n",
       "194648             1    219515  307792     309072         Block      NaN   \n",
       "194649             2    219516  307985     309265  Intersection  29328.0   \n",
       "194650             2    219517  310417     311717         Block      NaN   \n",
       "194651             1    219519  309594     310874  Intersection  29745.0   \n",
       "194652             1    219520  308698     309978         Block      NaN   \n",
       "194653             2    219521  308342     309622         Block      NaN   \n",
       "194654             1    219522  311117     312437  Intersection  36427.0   \n",
       "194655             2    219523  310911     312231  Intersection  25174.0   \n",
       "194656             2    219524  312179     313599  Intersection  29545.0   \n",
       "194657             1    219525  307834     309114         Block      NaN   \n",
       "194658             1    219528  311697     313057         Block      NaN   \n",
       "194659             1    219529  308019     309299         Block      NaN   \n",
       "194660             2    219531  308990     310270         Block      NaN   \n",
       "194661             2    219532  308532     309812         Block      NaN   \n",
       "194662             1    219535  307802     309082         Block      NaN   \n",
       "194663             2    219536  309335     310615         Block      NaN   \n",
       "194664             1    219537  309222     310502  Intersection  28300.0   \n",
       "194665             1    219538  308480     309760  Intersection  26005.0   \n",
       "194666             2    219539  309170     310450         Block      NaN   \n",
       "194667             1    219541  307804     309084         Block      NaN   \n",
       "194668             2    219543  309534     310814         Block      NaN   \n",
       "194669             1    219544  309085     310365         Block      NaN   \n",
       "194670             2    219545  311280     312640  Intersection  24760.0   \n",
       "194671             2    219546  309514     310794  Intersection  24349.0   \n",
       "194672             1    219547  308220     309500         Block      NaN   \n",
       "\n",
       "                                                 LOCATION  \\\n",
       "0                              5TH AVE NE AND NE 103RD ST   \n",
       "1              AURORA BR BETWEEN RAYE ST AND BRIDGE WAY N   \n",
       "2             4TH AVE BETWEEN SENECA ST AND UNIVERSITY ST   \n",
       "3                2ND AVE BETWEEN MARION ST AND MADISON ST   \n",
       "4                         SWIFT AVE S AND SWIFT AV OFF RP   \n",
       "5                              24TH AVE NW AND NW 85TH ST   \n",
       "6                              DENNY WAY AND WESTLAKE AVE   \n",
       "7                                  BROADWAY AND E PIKE ST   \n",
       "8                     PINE ST BETWEEN 5TH AVE AND 6TH AVE   \n",
       "9                           41ST AVE SW AND SW THISTLE ST   \n",
       "10                                                    NaN   \n",
       "11                 1ST AV S BR NB AND EAST MARGINAL WAY S   \n",
       "12      SW SPOKANE ST BETWEEN SW SPOKANE W BR AND TERM...   \n",
       "13               TERRY AVE BETWEEN JAMES ST AND CHERRY ST   \n",
       "14      ROOSEVELT WAY NE BETWEEN NE 47TH ST AND NE 50T...   \n",
       "15             9TH AVE BETWEEN LENORA ST AND BLANCHARD ST   \n",
       "16                             AURORA AVE N AND N 87TH ST   \n",
       "17      BATTERY ST TUN ON RP BETWEEN BELL ST AND ALASK...   \n",
       "18        S SPOKANE SR ST BETWEEN 4TH AVE S AND 5TH AVE S   \n",
       "19      41ST AVE SW BETWEEN SW WALKER ST AND SW COLLEG...   \n",
       "20      LAKE CITY WAY NE BETWEEN NE 143RD ST AND NE 14...   \n",
       "21                       14TH AVE NE AND NE NORTHGATE WAY   \n",
       "22              11TH AVE BETWEEN E PINE ST AND E OLIVE ST   \n",
       "23      ALASKAN WY VI SB BETWEEN ALASKAN WY VI SB EFR ...   \n",
       "24                         RAINIER AVE S AND S BRANDON ST   \n",
       "25         S JACKSON ST BETWEEN 14TH AVE S AND 16TH AVE S   \n",
       "26                                BOREN AVE AND OLIVE WAY   \n",
       "27      SW ADMIRAL WAY BETWEEN 42ND AVE SW AND CALIFOR...   \n",
       "28            21ST AVE BETWEEN E MARION ST AND E UNION ST   \n",
       "29      1ST AVE S BETWEEN 1ST AVS ON N RP AND S ROYAL ...   \n",
       "...                                                   ...   \n",
       "194643           1ST AVE BETWEEN BLANCHARD ST AND BELL ST   \n",
       "194644                               4TH AVE AND JAMES ST   \n",
       "194645                               6TH AVE AND JAMES ST   \n",
       "194646       BROADWAY BETWEEN CHERRY ST AND E COLUMBIA ST   \n",
       "194647  GREENWOOD AVE N BETWEEN N 104TH ST AND HOLMAN ...   \n",
       "194648   W HOWE ST BETWEEN QUEEN ANNE AVE N AND 1ST AVE W   \n",
       "194649                          23RD AVE E AND E ALOHA ST   \n",
       "194650    GREENWOOD AVE N BETWEEN N 76TH ST AND N 77TH ST   \n",
       "194651                             BROADWAY AND E PIKE ST   \n",
       "194652        TERRY AVE BETWEEN VIRGINIA ST AND LENORA ST   \n",
       "194653  HARVARD AVE E BETWEEN E ALLISON ST AND EASTLAK...   \n",
       "194654                        15TH AVE NE AND NE 125TH ST   \n",
       "194655                        LEARY AVE NW AND NW DOCK PL   \n",
       "194656                              5TH AVE AND LENORA ST   \n",
       "194657                4TH AVE BETWEEN PIKE ST AND PINE ST   \n",
       "194658   RAINIER AVE S BETWEEN 23RD AVE S AND S WALKER ST   \n",
       "194659    NE 123RD ST BETWEEN HIRAM PL NE AND 28TH AVE NE   \n",
       "194660  BATTERY ST TUNNEL NB BETWEEN ALASKAN WY VI NB ...   \n",
       "194661      20TH AVE BETWEEN E MADISON ST AND E DENNY WAY   \n",
       "194662   VALLEY ST BETWEEN WESTLAKE AVE N AND TERRY AVE N   \n",
       "194663  RAINIER AVE S BETWEEN S BAYVIEW ST AND S MCCLE...   \n",
       "194664                    EASTLAKE AVE E AND E ROANOKE ST   \n",
       "194665                    NE PARK RD AND NE RAVENNA WB BV   \n",
       "194666       AURORA AVE N BETWEEN N 90TH ST AND N 91ST ST   \n",
       "194667  PUGET BLVD SW BETWEEN SW HUDSON ST AND DEAD END 1   \n",
       "194668    34TH AVE S BETWEEN S DAKOTA ST AND S GENESEE ST   \n",
       "194669       AURORA AVE N BETWEEN N 85TH ST AND N 86TH ST   \n",
       "194670                         20TH AVE NE AND NE 75TH ST   \n",
       "194671                      GREENWOOD AVE N AND N 68TH ST   \n",
       "194672       34TH AVE BETWEEN E MARION ST AND E SPRING ST   \n",
       "\n",
       "                          SEVERITYDESC  PERSONCOUNT  PEDCOUNT UNDERINFL  \\\n",
       "0                     Injury Collision            2         0         N   \n",
       "1       Property Damage Only Collision            2         0         0   \n",
       "2       Property Damage Only Collision            4         0         0   \n",
       "3       Property Damage Only Collision            3         0         N   \n",
       "4                     Injury Collision            2         0         0   \n",
       "5       Property Damage Only Collision            2         0         N   \n",
       "6       Property Damage Only Collision            2         0         0   \n",
       "7                     Injury Collision            3         0         N   \n",
       "8       Property Damage Only Collision            2         0         0   \n",
       "9                     Injury Collision            2         0         0   \n",
       "10      Property Damage Only Collision            2         0         0   \n",
       "11      Property Damage Only Collision            2         0         0   \n",
       "12      Property Damage Only Collision            0         0         0   \n",
       "13      Property Damage Only Collision            2         0         0   \n",
       "14                    Injury Collision            2         0         N   \n",
       "15      Property Damage Only Collision            1         0       NaN   \n",
       "16                    Injury Collision            3         0         0   \n",
       "17      Property Damage Only Collision            0         0         0   \n",
       "18                    Injury Collision            4         0         N   \n",
       "19      Property Damage Only Collision            2         0         0   \n",
       "20                    Injury Collision            3         0         N   \n",
       "21                    Injury Collision            5         0         N   \n",
       "22      Property Damage Only Collision            2         0         0   \n",
       "23      Property Damage Only Collision            1         0         0   \n",
       "24                    Injury Collision            3         0         N   \n",
       "25                    Injury Collision            2         0         N   \n",
       "26      Property Damage Only Collision            2         0         N   \n",
       "27      Property Damage Only Collision            2         0         0   \n",
       "28      Property Damage Only Collision            2         0         N   \n",
       "29      Property Damage Only Collision            2         0         0   \n",
       "...                                ...          ...       ...       ...   \n",
       "194643  Property Damage Only Collision            2         0         N   \n",
       "194644  Property Damage Only Collision            2         0         N   \n",
       "194645                Injury Collision            5         0         N   \n",
       "194646  Property Damage Only Collision            2         0       NaN   \n",
       "194647                Injury Collision            2         1         N   \n",
       "194648  Property Damage Only Collision            2         0         Y   \n",
       "194649                Injury Collision            6         0         N   \n",
       "194650                Injury Collision            5         0         N   \n",
       "194651  Property Damage Only Collision            3         1         N   \n",
       "194652  Property Damage Only Collision            3         0         N   \n",
       "194653                Injury Collision            6         0         Y   \n",
       "194654  Property Damage Only Collision            2         0       NaN   \n",
       "194655                Injury Collision            4         0       NaN   \n",
       "194656                Injury Collision            2         1         N   \n",
       "194657  Property Damage Only Collision            2         0         N   \n",
       "194658  Property Damage Only Collision            3         0         N   \n",
       "194659  Property Damage Only Collision            2         0         N   \n",
       "194660                Injury Collision            1         0         N   \n",
       "194661                Injury Collision            2         0         Y   \n",
       "194662  Property Damage Only Collision            2         0         N   \n",
       "194663                Injury Collision            3         0         N   \n",
       "194664  Property Damage Only Collision            8         0         N   \n",
       "194665  Property Damage Only Collision            2         0         N   \n",
       "194666                Injury Collision            2         0         N   \n",
       "194667  Property Damage Only Collision            1         0         Y   \n",
       "194668                Injury Collision            3         0         N   \n",
       "194669  Property Damage Only Collision            2         0         N   \n",
       "194670                Injury Collision            3         0         N   \n",
       "194671                Injury Collision            2         0         N   \n",
       "194672  Property Damage Only Collision            2         0         N   \n",
       "\n",
       "         WEATHER ROADCOND                LIGHTCOND  \n",
       "0       Overcast      Wet                 Daylight  \n",
       "1        Raining      Wet  Dark - Street Lights On  \n",
       "2       Overcast      Dry                 Daylight  \n",
       "3          Clear      Dry                 Daylight  \n",
       "4        Raining      Wet                 Daylight  \n",
       "5          Clear      Dry                 Daylight  \n",
       "6        Raining      Wet                 Daylight  \n",
       "7          Clear      Dry                 Daylight  \n",
       "8          Clear      Dry                 Daylight  \n",
       "9          Clear      Dry                 Daylight  \n",
       "10      Overcast      Dry                 Daylight  \n",
       "11         Clear      Dry                 Daylight  \n",
       "12       Raining      Wet  Dark - Street Lights On  \n",
       "13       Raining      Wet  Dark - No Street Lights  \n",
       "14         Clear      Dry  Dark - Street Lights On  \n",
       "15           NaN      NaN                      NaN  \n",
       "16      Overcast      Dry                 Daylight  \n",
       "17      Overcast      Dry                 Daylight  \n",
       "18         Clear      Dry                 Daylight  \n",
       "19       Unknown      Dry                  Unknown  \n",
       "20         Clear      Dry  Dark - Street Lights On  \n",
       "21         Clear      Dry                 Daylight  \n",
       "22         Clear      Dry  Dark - Street Lights On  \n",
       "23       Unknown  Unknown                  Unknown  \n",
       "24         Clear      Dry                 Daylight  \n",
       "25         Clear      Dry                 Daylight  \n",
       "26      Overcast      Wet                  Unknown  \n",
       "27         Clear      Dry                 Daylight  \n",
       "28         Clear      Dry                 Daylight  \n",
       "29         Clear      Dry                 Daylight  \n",
       "...          ...      ...                      ...  \n",
       "194643     Clear      Dry  Dark - Street Lights On  \n",
       "194644     Clear      Dry                     Dusk  \n",
       "194645     Clear      Dry  Dark - Street Lights On  \n",
       "194646       NaN      NaN                      NaN  \n",
       "194647   Raining      Wet                     Dusk  \n",
       "194648   Raining      Wet  Dark - Street Lights On  \n",
       "194649     Clear      Dry  Dark - Street Lights On  \n",
       "194650     Clear      Dry                 Daylight  \n",
       "194651     Clear      Wet  Dark - Street Lights On  \n",
       "194652  Overcast      Wet                     Dusk  \n",
       "194653  Overcast      Wet  Dark - Street Lights On  \n",
       "194654       NaN      NaN                      NaN  \n",
       "194655       NaN      NaN                      NaN  \n",
       "194656     Clear      Dry                 Daylight  \n",
       "194657   Raining      Wet  Dark - Street Lights On  \n",
       "194658   Raining      Wet  Dark - Street Lights On  \n",
       "194659   Raining      Wet  Dark - Street Lights On  \n",
       "194660   Raining      Wet                    Other  \n",
       "194661     Clear      Dry                 Daylight  \n",
       "194662     Clear      Dry                     Dusk  \n",
       "194663   Raining      Wet                 Daylight  \n",
       "194664     Clear      Dry                 Daylight  \n",
       "194665     Clear      Dry                 Daylight  \n",
       "194666     Clear      Wet                 Daylight  \n",
       "194667   Raining      Wet  Dark - Street Lights On  \n",
       "194668     Clear      Dry                 Daylight  \n",
       "194669   Raining      Wet                 Daylight  \n",
       "194670     Clear      Dry                 Daylight  \n",
       "194671     Clear      Dry                     Dusk  \n",
       "194672     Clear      Wet                 Daylight  \n",
       "\n",
       "[194673 rows x 14 columns]>"
      ]
     },
     "execution_count": 12,
     "metadata": {},
     "output_type": "execute_result"
    }
   ],
   "source": [
    "df.drop_duplicates"
   ]
  },
  {
   "cell_type": "code",
   "execution_count": 13,
   "metadata": {},
   "outputs": [
    {
     "data": {
      "text/html": [
       "<div>\n",
       "<style scoped>\n",
       "    .dataframe tbody tr th:only-of-type {\n",
       "        vertical-align: middle;\n",
       "    }\n",
       "\n",
       "    .dataframe tbody tr th {\n",
       "        vertical-align: top;\n",
       "    }\n",
       "\n",
       "    .dataframe thead th {\n",
       "        text-align: right;\n",
       "    }\n",
       "</style>\n",
       "<table border=\"1\" class=\"dataframe\">\n",
       "  <thead>\n",
       "    <tr style=\"text-align: right;\">\n",
       "      <th></th>\n",
       "      <th>SEVERITYCODE</th>\n",
       "      <th>OBJECTID</th>\n",
       "      <th>INCKEY</th>\n",
       "      <th>COLDETKEY</th>\n",
       "      <th>ADDRTYPE</th>\n",
       "      <th>INTKEY</th>\n",
       "      <th>LOCATION</th>\n",
       "      <th>SEVERITYDESC</th>\n",
       "      <th>PERSONCOUNT</th>\n",
       "      <th>PEDCOUNT</th>\n",
       "      <th>UNDERINFL</th>\n",
       "      <th>WEATHER</th>\n",
       "      <th>ROADCOND</th>\n",
       "      <th>LIGHTCOND</th>\n",
       "    </tr>\n",
       "  </thead>\n",
       "  <tbody>\n",
       "    <tr>\n",
       "      <th>0</th>\n",
       "      <td>2</td>\n",
       "      <td>1</td>\n",
       "      <td>1307</td>\n",
       "      <td>1307</td>\n",
       "      <td>Intersection</td>\n",
       "      <td>37475.0</td>\n",
       "      <td>5TH AVE NE AND NE 103RD ST</td>\n",
       "      <td>Injury Collision</td>\n",
       "      <td>2</td>\n",
       "      <td>0</td>\n",
       "      <td>N</td>\n",
       "      <td>Overcast</td>\n",
       "      <td>Wet</td>\n",
       "      <td>Daylight</td>\n",
       "    </tr>\n",
       "    <tr>\n",
       "      <th>1</th>\n",
       "      <td>1</td>\n",
       "      <td>2</td>\n",
       "      <td>52200</td>\n",
       "      <td>52200</td>\n",
       "      <td>Block</td>\n",
       "      <td>NaN</td>\n",
       "      <td>AURORA BR BETWEEN RAYE ST AND BRIDGE WAY N</td>\n",
       "      <td>Property Damage Only Collision</td>\n",
       "      <td>2</td>\n",
       "      <td>0</td>\n",
       "      <td>0</td>\n",
       "      <td>Raining</td>\n",
       "      <td>Wet</td>\n",
       "      <td>Dark - Street Lights On</td>\n",
       "    </tr>\n",
       "    <tr>\n",
       "      <th>2</th>\n",
       "      <td>1</td>\n",
       "      <td>3</td>\n",
       "      <td>26700</td>\n",
       "      <td>26700</td>\n",
       "      <td>Block</td>\n",
       "      <td>NaN</td>\n",
       "      <td>4TH AVE BETWEEN SENECA ST AND UNIVERSITY ST</td>\n",
       "      <td>Property Damage Only Collision</td>\n",
       "      <td>4</td>\n",
       "      <td>0</td>\n",
       "      <td>0</td>\n",
       "      <td>Overcast</td>\n",
       "      <td>Dry</td>\n",
       "      <td>Daylight</td>\n",
       "    </tr>\n",
       "    <tr>\n",
       "      <th>3</th>\n",
       "      <td>1</td>\n",
       "      <td>4</td>\n",
       "      <td>1144</td>\n",
       "      <td>1144</td>\n",
       "      <td>Block</td>\n",
       "      <td>NaN</td>\n",
       "      <td>2ND AVE BETWEEN MARION ST AND MADISON ST</td>\n",
       "      <td>Property Damage Only Collision</td>\n",
       "      <td>3</td>\n",
       "      <td>0</td>\n",
       "      <td>N</td>\n",
       "      <td>Clear</td>\n",
       "      <td>Dry</td>\n",
       "      <td>Daylight</td>\n",
       "    </tr>\n",
       "    <tr>\n",
       "      <th>4</th>\n",
       "      <td>2</td>\n",
       "      <td>5</td>\n",
       "      <td>17700</td>\n",
       "      <td>17700</td>\n",
       "      <td>Intersection</td>\n",
       "      <td>34387.0</td>\n",
       "      <td>SWIFT AVE S AND SWIFT AV OFF RP</td>\n",
       "      <td>Injury Collision</td>\n",
       "      <td>2</td>\n",
       "      <td>0</td>\n",
       "      <td>0</td>\n",
       "      <td>Raining</td>\n",
       "      <td>Wet</td>\n",
       "      <td>Daylight</td>\n",
       "    </tr>\n",
       "  </tbody>\n",
       "</table>\n",
       "</div>"
      ],
      "text/plain": [
       "   SEVERITYCODE  OBJECTID  INCKEY  COLDETKEY      ADDRTYPE   INTKEY  \\\n",
       "0             2         1    1307       1307  Intersection  37475.0   \n",
       "1             1         2   52200      52200         Block      NaN   \n",
       "2             1         3   26700      26700         Block      NaN   \n",
       "3             1         4    1144       1144         Block      NaN   \n",
       "4             2         5   17700      17700  Intersection  34387.0   \n",
       "\n",
       "                                      LOCATION  \\\n",
       "0                   5TH AVE NE AND NE 103RD ST   \n",
       "1   AURORA BR BETWEEN RAYE ST AND BRIDGE WAY N   \n",
       "2  4TH AVE BETWEEN SENECA ST AND UNIVERSITY ST   \n",
       "3     2ND AVE BETWEEN MARION ST AND MADISON ST   \n",
       "4              SWIFT AVE S AND SWIFT AV OFF RP   \n",
       "\n",
       "                     SEVERITYDESC  PERSONCOUNT  PEDCOUNT UNDERINFL   WEATHER  \\\n",
       "0                Injury Collision            2         0         N  Overcast   \n",
       "1  Property Damage Only Collision            2         0         0   Raining   \n",
       "2  Property Damage Only Collision            4         0         0  Overcast   \n",
       "3  Property Damage Only Collision            3         0         N     Clear   \n",
       "4                Injury Collision            2         0         0   Raining   \n",
       "\n",
       "  ROADCOND                LIGHTCOND  \n",
       "0      Wet                 Daylight  \n",
       "1      Wet  Dark - Street Lights On  \n",
       "2      Dry                 Daylight  \n",
       "3      Dry                 Daylight  \n",
       "4      Wet                 Daylight  "
      ]
     },
     "execution_count": 13,
     "metadata": {},
     "output_type": "execute_result"
    }
   ],
   "source": [
    "df.head(5)"
   ]
  },
  {
   "cell_type": "code",
   "execution_count": 14,
   "metadata": {},
   "outputs": [],
   "source": [
    "df.dropna(axis=0,inplace=True)"
   ]
  },
  {
   "cell_type": "code",
   "execution_count": 15,
   "metadata": {},
   "outputs": [
    {
     "data": {
      "text/plain": [
       "(63462, 14)"
      ]
     },
     "execution_count": 15,
     "metadata": {},
     "output_type": "execute_result"
    }
   ],
   "source": [
    "df.shape"
   ]
  },
  {
   "cell_type": "code",
   "execution_count": 16,
   "metadata": {},
   "outputs": [
    {
     "data": {
      "text/plain": [
       "Index(['SEVERITYCODE', 'OBJECTID', 'INCKEY', 'COLDETKEY', 'ADDRTYPE', 'INTKEY',\n",
       "       'LOCATION', 'SEVERITYDESC', 'PERSONCOUNT', 'PEDCOUNT', 'UNDERINFL',\n",
       "       'WEATHER', 'ROADCOND', 'LIGHTCOND'],\n",
       "      dtype='object')"
      ]
     },
     "execution_count": 16,
     "metadata": {},
     "output_type": "execute_result"
    }
   ],
   "source": [
    "df.columns"
   ]
  },
  {
   "cell_type": "code",
   "execution_count": 17,
   "metadata": {},
   "outputs": [
    {
     "data": {
      "text/plain": [
       "WEATHER                   SEVERITYCODE\n",
       "Blowing Sand/Dirt         2               0.600000\n",
       "                          1               0.400000\n",
       "Clear                     1               0.559210\n",
       "                          2               0.440790\n",
       "Fog/Smog/Smoke            1               0.527174\n",
       "                          2               0.472826\n",
       "Other                     1               0.654135\n",
       "                          2               0.345865\n",
       "Overcast                  1               0.576408\n",
       "                          2               0.423592\n",
       "Partly Cloudy             2               0.666667\n",
       "                          1               0.333333\n",
       "Raining                   1               0.562200\n",
       "                          2               0.437800\n",
       "Severe Crosswind          1               0.800000\n",
       "                          2               0.200000\n",
       "Sleet/Hail/Freezing Rain  1               0.658537\n",
       "                          2               0.341463\n",
       "Snowing                   1               0.679070\n",
       "                          2               0.320930\n",
       "Unknown                   1               0.791694\n",
       "                          2               0.208306\n",
       "Name: SEVERITYCODE, dtype: float64"
      ]
     },
     "execution_count": 17,
     "metadata": {},
     "output_type": "execute_result"
    }
   ],
   "source": [
    "df.groupby(['WEATHER'])['SEVERITYCODE'].value_counts(normalize=True)"
   ]
  },
  {
   "cell_type": "code",
   "execution_count": 18,
   "metadata": {},
   "outputs": [
    {
     "data": {
      "text/plain": [
       "ROADCOND        SEVERITYCODE\n",
       "Dry             1               0.560276\n",
       "                2               0.439724\n",
       "Ice             1               0.664948\n",
       "                2               0.335052\n",
       "Oil             1               0.500000\n",
       "                2               0.500000\n",
       "Other           1               0.583333\n",
       "                2               0.416667\n",
       "Sand/Mud/Dirt   1               0.615385\n",
       "                2               0.384615\n",
       "Snow/Slush      1               0.675000\n",
       "                2               0.325000\n",
       "Standing Water  1               0.700000\n",
       "                2               0.300000\n",
       "Unknown         1               0.793011\n",
       "                2               0.206989\n",
       "Wet             1               0.568075\n",
       "                2               0.431925\n",
       "Name: SEVERITYCODE, dtype: float64"
      ]
     },
     "execution_count": 18,
     "metadata": {},
     "output_type": "execute_result"
    }
   ],
   "source": [
    "df.groupby(['ROADCOND'])['SEVERITYCODE'].value_counts(normalize=True)"
   ]
  },
  {
   "cell_type": "code",
   "execution_count": 19,
   "metadata": {},
   "outputs": [
    {
     "data": {
      "text/plain": [
       "LIGHTCOND                 SEVERITYCODE\n",
       "Dark - No Street Lights   1               0.591195\n",
       "                          2               0.408805\n",
       "Dark - Street Lights Off  1               0.570225\n",
       "                          2               0.429775\n",
       "Dark - Street Lights On   1               0.572145\n",
       "                          2               0.427855\n",
       "Dark - Unknown Lighting   2               0.750000\n",
       "                          1               0.250000\n",
       "Dawn                      1               0.529282\n",
       "                          2               0.470718\n",
       "Daylight                  1               0.562609\n",
       "                          2               0.437391\n",
       "Dusk                      1               0.547259\n",
       "                          2               0.452741\n",
       "Other                     1               0.513514\n",
       "                          2               0.486486\n",
       "Unknown                   1               0.790829\n",
       "                          2               0.209171\n",
       "Name: SEVERITYCODE, dtype: float64"
      ]
     },
     "execution_count": 19,
     "metadata": {},
     "output_type": "execute_result"
    }
   ],
   "source": [
    "df.groupby(['LIGHTCOND'])['SEVERITYCODE'].value_counts(normalize=True)"
   ]
  },
  {
   "cell_type": "code",
   "execution_count": 20,
   "metadata": {},
   "outputs": [
    {
     "data": {
      "text/plain": [
       "PERSONCOUNT  SEVERITYCODE\n",
       "0            1               0.570415\n",
       "             2               0.429585\n",
       "1            1               0.709974\n",
       "             2               0.290026\n",
       "2            1               0.589807\n",
       "             2               0.410193\n",
       "3            1               0.542395\n",
       "             2               0.457605\n",
       "4            1               0.515718\n",
       "             2               0.484282\n",
       "5            1               0.500184\n",
       "             2               0.499816\n",
       "6            2               0.538600\n",
       "             1               0.461400\n",
       "7            2               0.562945\n",
       "             1               0.437055\n",
       "8            2               0.524272\n",
       "             1               0.475728\n",
       "9            2               0.618421\n",
       "             1               0.381579\n",
       "10           2               0.644444\n",
       "             1               0.355556\n",
       "11           2               0.619048\n",
       "             1               0.380952\n",
       "12           2               0.727273\n",
       "             1               0.272727\n",
       "13           2               0.750000\n",
       "             1               0.250000\n",
       "14           1               0.666667\n",
       "             2               0.333333\n",
       "                               ...   \n",
       "17           1               0.166667\n",
       "18           1               0.500000\n",
       "             2               0.500000\n",
       "19           1               1.000000\n",
       "20           1               1.000000\n",
       "22           1               0.500000\n",
       "             2               0.500000\n",
       "23           1               0.500000\n",
       "             2               0.500000\n",
       "24           1               1.000000\n",
       "25           1               0.500000\n",
       "             2               0.500000\n",
       "26           1               1.000000\n",
       "27           1               0.500000\n",
       "             2               0.500000\n",
       "28           1               0.500000\n",
       "             2               0.500000\n",
       "29           2               1.000000\n",
       "31           1               1.000000\n",
       "32           1               0.500000\n",
       "             2               0.500000\n",
       "34           2               1.000000\n",
       "36           1               1.000000\n",
       "37           1               1.000000\n",
       "43           1               1.000000\n",
       "44           1               1.000000\n",
       "47           1               1.000000\n",
       "48           2               1.000000\n",
       "53           1               1.000000\n",
       "81           2               1.000000\n",
       "Name: SEVERITYCODE, Length: 64, dtype: float64"
      ]
     },
     "execution_count": 20,
     "metadata": {},
     "output_type": "execute_result"
    }
   ],
   "source": [
    "df.groupby(['PERSONCOUNT'])['SEVERITYCODE'].value_counts(normalize=True)"
   ]
  },
  {
   "cell_type": "code",
   "execution_count": 21,
   "metadata": {},
   "outputs": [
    {
     "data": {
      "text/plain": [
       "PEDCOUNT  SEVERITYCODE\n",
       "0         1               0.607086\n",
       "          2               0.392914\n",
       "1         2               0.896967\n",
       "          1               0.103033\n",
       "2         2               0.898810\n",
       "          1               0.101190\n",
       "3         2               0.937500\n",
       "          1               0.062500\n",
       "4         2               1.000000\n",
       "Name: SEVERITYCODE, dtype: float64"
      ]
     },
     "execution_count": 21,
     "metadata": {},
     "output_type": "execute_result"
    }
   ],
   "source": [
    "df.groupby(['PEDCOUNT'])['SEVERITYCODE'].value_counts(normalize=True)"
   ]
  },
  {
   "cell_type": "code",
   "execution_count": 22,
   "metadata": {},
   "outputs": [],
   "source": [
    "df['UNDERINFL'].replace(to_replace=['Y','N'],value=[1,0],inplace=True)"
   ]
  },
  {
   "cell_type": "code",
   "execution_count": 23,
   "metadata": {},
   "outputs": [],
   "source": [
    "df['UNDERINFL']=pd.to_numeric(df['UNDERINFL'],errors='coerce')"
   ]
  },
  {
   "cell_type": "code",
   "execution_count": 24,
   "metadata": {},
   "outputs": [
    {
     "data": {
      "text/plain": [
       "0    61231\n",
       "1     2231\n",
       "Name: UNDERINFL, dtype: int64"
      ]
     },
     "execution_count": 24,
     "metadata": {},
     "output_type": "execute_result"
    }
   ],
   "source": [
    "ui=df['UNDERINFL'].value_counts()\n",
    "ui"
   ]
  },
  {
   "cell_type": "code",
   "execution_count": 25,
   "metadata": {},
   "outputs": [
    {
     "name": "stdout",
     "output_type": "stream",
     "text": [
      "The number of people driving under the influence of drugs or alcohol (out of 194673 car accidents) is 2231\n"
     ]
    }
   ],
   "source": [
    "print(\"The number of people driving under the influence of drugs or alcohol (out of 194673 car accidents) is\", ui[1])"
   ]
  },
  {
   "cell_type": "code",
   "execution_count": 26,
   "metadata": {},
   "outputs": [
    {
     "data": {
      "text/plain": [
       "3.5154895843181744"
      ]
     },
     "execution_count": 26,
     "metadata": {},
     "output_type": "execute_result"
    }
   ],
   "source": [
    "ui[1]/63462*100"
   ]
  },
  {
   "cell_type": "code",
   "execution_count": 27,
   "metadata": {},
   "outputs": [
    {
     "data": {
      "text/html": [
       "<div>\n",
       "<style scoped>\n",
       "    .dataframe tbody tr th:only-of-type {\n",
       "        vertical-align: middle;\n",
       "    }\n",
       "\n",
       "    .dataframe tbody tr th {\n",
       "        vertical-align: top;\n",
       "    }\n",
       "\n",
       "    .dataframe thead th {\n",
       "        text-align: right;\n",
       "    }\n",
       "</style>\n",
       "<table border=\"1\" class=\"dataframe\">\n",
       "  <thead>\n",
       "    <tr style=\"text-align: right;\">\n",
       "      <th></th>\n",
       "      <th>UNDERINFL</th>\n",
       "    </tr>\n",
       "  </thead>\n",
       "  <tbody>\n",
       "    <tr>\n",
       "      <th>0</th>\n",
       "      <td>61231</td>\n",
       "    </tr>\n",
       "    <tr>\n",
       "      <th>1</th>\n",
       "      <td>2231</td>\n",
       "    </tr>\n",
       "  </tbody>\n",
       "</table>\n",
       "</div>"
      ],
      "text/plain": [
       "   UNDERINFL\n",
       "0      61231\n",
       "1       2231"
      ]
     },
     "execution_count": 27,
     "metadata": {},
     "output_type": "execute_result"
    }
   ],
   "source": [
    "ui=DataFrame(ui)\n",
    "ui"
   ]
  },
  {
   "cell_type": "code",
   "execution_count": 28,
   "metadata": {},
   "outputs": [
    {
     "data": {
      "text/plain": [
       "UNDERINFL  SEVERITYCODE\n",
       "0          1               0.571541\n",
       "           2               0.428459\n",
       "1          2               0.510533\n",
       "           1               0.489467\n",
       "Name: SEVERITYCODE, dtype: float64"
      ]
     },
     "execution_count": 28,
     "metadata": {},
     "output_type": "execute_result"
    }
   ],
   "source": [
    "df.groupby(['UNDERINFL'])['SEVERITYCODE'].value_counts(normalize=True)"
   ]
  },
  {
   "cell_type": "code",
   "execution_count": 29,
   "metadata": {},
   "outputs": [
    {
     "data": {
      "text/plain": [
       "1    36088\n",
       "2    27374\n",
       "Name: SEVERITYCODE, dtype: int64"
      ]
     },
     "execution_count": 29,
     "metadata": {},
     "output_type": "execute_result"
    }
   ],
   "source": [
    "df['SEVERITYCODE'].value_counts(normalize=False)"
   ]
  },
  {
   "cell_type": "markdown",
   "metadata": {},
   "source": [
    "## III. Methodology\n",
    "\n",
    "### i. Exploratory data analysis"
   ]
  },
  {
   "cell_type": "code",
   "execution_count": 30,
   "metadata": {},
   "outputs": [],
   "source": [
    "%matplotlib inline \n",
    "\n",
    "import matplotlib as mpl\n",
    "import matplotlib.pyplot as plt\n",
    "\n",
    "mpl.style.use('ggplot')"
   ]
  },
  {
   "cell_type": "code",
   "execution_count": 31,
   "metadata": {},
   "outputs": [],
   "source": [
    "z=df['WEATHER'].value_counts()\n",
    "z=DataFrame(z)"
   ]
  },
  {
   "cell_type": "code",
   "execution_count": 32,
   "metadata": {},
   "outputs": [
    {
     "data": {
      "text/plain": [
       "Text(0.5, 1.0, 'Regarding weather conditions')"
      ]
     },
     "execution_count": 32,
     "metadata": {},
     "output_type": "execute_result"
    },
    {
     "data": {
      "image/png": "[encoded data removed]",
      "text/plain": [
       "<Figure size 720x1656 with 1 Axes>"
      ]
     },
     "metadata": {},
     "output_type": "display_data"
    }
   ],
   "source": [
    "z.plot(kind='barh', figsize=(10, 23), rot=90)\n",
    "\n",
    "plt.xlabel('Proportion of a particular weather type in DB')\n",
    "plt.ylabel('Weather conditions')\n",
    "plt.title('Regarding weather conditions')"
   ]
  },
  {
   "cell_type": "code",
   "execution_count": 33,
   "metadata": {},
   "outputs": [
    {
     "data": {
      "text/html": [
       "<div>\n",
       "<style scoped>\n",
       "    .dataframe tbody tr th:only-of-type {\n",
       "        vertical-align: middle;\n",
       "    }\n",
       "\n",
       "    .dataframe tbody tr th {\n",
       "        vertical-align: top;\n",
       "    }\n",
       "\n",
       "    .dataframe thead th {\n",
       "        text-align: right;\n",
       "    }\n",
       "</style>\n",
       "<table border=\"1\" class=\"dataframe\">\n",
       "  <thead>\n",
       "    <tr style=\"text-align: right;\">\n",
       "      <th></th>\n",
       "      <th>WEATHER</th>\n",
       "    </tr>\n",
       "  </thead>\n",
       "  <tbody>\n",
       "    <tr>\n",
       "      <th>Clear</th>\n",
       "      <td>39039</td>\n",
       "    </tr>\n",
       "    <tr>\n",
       "      <th>Raining</th>\n",
       "      <td>12508</td>\n",
       "    </tr>\n",
       "    <tr>\n",
       "      <th>Overcast</th>\n",
       "      <td>9783</td>\n",
       "    </tr>\n",
       "    <tr>\n",
       "      <th>Unknown</th>\n",
       "      <td>1541</td>\n",
       "    </tr>\n",
       "    <tr>\n",
       "      <th>Snowing</th>\n",
       "      <td>215</td>\n",
       "    </tr>\n",
       "    <tr>\n",
       "      <th>Fog/Smog/Smoke</th>\n",
       "      <td>184</td>\n",
       "    </tr>\n",
       "    <tr>\n",
       "      <th>Other</th>\n",
       "      <td>133</td>\n",
       "    </tr>\n",
       "    <tr>\n",
       "      <th>Sleet/Hail/Freezing Rain</th>\n",
       "      <td>41</td>\n",
       "    </tr>\n",
       "    <tr>\n",
       "      <th>Blowing Sand/Dirt</th>\n",
       "      <td>10</td>\n",
       "    </tr>\n",
       "    <tr>\n",
       "      <th>Severe Crosswind</th>\n",
       "      <td>5</td>\n",
       "    </tr>\n",
       "    <tr>\n",
       "      <th>Partly Cloudy</th>\n",
       "      <td>3</td>\n",
       "    </tr>\n",
       "  </tbody>\n",
       "</table>\n",
       "</div>"
      ],
      "text/plain": [
       "                          WEATHER\n",
       "Clear                       39039\n",
       "Raining                     12508\n",
       "Overcast                     9783\n",
       "Unknown                      1541\n",
       "Snowing                       215\n",
       "Fog/Smog/Smoke                184\n",
       "Other                         133\n",
       "Sleet/Hail/Freezing Rain       41\n",
       "Blowing Sand/Dirt              10\n",
       "Severe Crosswind                5\n",
       "Partly Cloudy                   3"
      ]
     },
     "execution_count": 33,
     "metadata": {},
     "output_type": "execute_result"
    }
   ],
   "source": [
    "z"
   ]
  },
  {
   "cell_type": "code",
   "execution_count": 34,
   "metadata": {},
   "outputs": [],
   "source": [
    "t=df['LIGHTCOND'].value_counts()"
   ]
  },
  {
   "cell_type": "code",
   "execution_count": 35,
   "metadata": {},
   "outputs": [
    {
     "data": {
      "text/plain": [
       "Text(0.5, 1.0, 'Regarding light conditions')"
      ]
     },
     "execution_count": 35,
     "metadata": {},
     "output_type": "execute_result"
    },
    {
     "data": {
      "image/png": "[encoded data removed]",
      "text/plain": [
       "<Figure size 1080x1800 with 1 Axes>"
      ]
     },
     "metadata": {},
     "output_type": "display_data"
    }
   ],
   "source": [
    "t.plot(kind='barh', figsize=(15, 25), rot=90, color='green')\n",
    "\n",
    "plt.xlabel('Proportion of a particular light condition type')\n",
    "plt.ylabel('Light conditions')\n",
    "plt.title('Regarding light conditions')"
   ]
  },
  {
   "cell_type": "code",
   "execution_count": 37,
   "metadata": {},
   "outputs": [],
   "source": [
    "v=df['ROADCOND'].value_counts()"
   ]
  },
  {
   "cell_type": "code",
   "execution_count": 38,
   "metadata": {},
   "outputs": [
    {
     "data": {
      "text/plain": [
       "Text(0.5, 1.0, 'Regarding road conditions')"
      ]
     },
     "execution_count": 38,
     "metadata": {},
     "output_type": "execute_result"
    },
    {
     "data": {
      "image/png": "[encoded data removed]",
      "text/plain": [
       "<Figure size 1080x1080 with 1 Axes>"
      ]
     },
     "metadata": {},
     "output_type": "display_data"
    }
   ],
   "source": [
    "v.plot(kind='barh', figsize=(15, 15), rot=90, color='purple')\n",
    "\n",
    "plt.xlabel('Proportion of a particular road condition type - out of 194673 cases')\n",
    "plt.ylabel('Road conditions')\n",
    "plt.title('Regarding road conditions')"
   ]
  },
  {
   "cell_type": "code",
   "execution_count": 39,
   "metadata": {},
   "outputs": [
    {
     "data": {
      "text/plain": [
       "(63462, 14)"
      ]
     },
     "execution_count": 39,
     "metadata": {},
     "output_type": "execute_result"
    }
   ],
   "source": [
    "df.shape"
   ]
  },
  {
   "cell_type": "code",
   "execution_count": 42,
   "metadata": {},
   "outputs": [],
   "source": [
    "p=DataFrame(df['PEDCOUNT'].value_counts())\n",
    "p['INDEX']=p.index+1"
   ]
  },
  {
   "cell_type": "code",
   "execution_count": 43,
   "metadata": {},
   "outputs": [
    {
     "data": {
      "text/html": [
       "<div>\n",
       "<style scoped>\n",
       "    .dataframe tbody tr th:only-of-type {\n",
       "        vertical-align: middle;\n",
       "    }\n",
       "\n",
       "    .dataframe tbody tr th {\n",
       "        vertical-align: top;\n",
       "    }\n",
       "\n",
       "    .dataframe thead th {\n",
       "        text-align: right;\n",
       "    }\n",
       "</style>\n",
       "<table border=\"1\" class=\"dataframe\">\n",
       "  <thead>\n",
       "    <tr style=\"text-align: right;\">\n",
       "      <th></th>\n",
       "      <th>PEDCOUNT</th>\n",
       "      <th>INDEX</th>\n",
       "    </tr>\n",
       "  </thead>\n",
       "  <tbody>\n",
       "    <tr>\n",
       "      <th>0</th>\n",
       "      <td>58626</td>\n",
       "      <td>1</td>\n",
       "    </tr>\n",
       "    <tr>\n",
       "      <th>1</th>\n",
       "      <td>4649</td>\n",
       "      <td>2</td>\n",
       "    </tr>\n",
       "    <tr>\n",
       "      <th>2</th>\n",
       "      <td>168</td>\n",
       "      <td>3</td>\n",
       "    </tr>\n",
       "    <tr>\n",
       "      <th>3</th>\n",
       "      <td>16</td>\n",
       "      <td>4</td>\n",
       "    </tr>\n",
       "    <tr>\n",
       "      <th>4</th>\n",
       "      <td>3</td>\n",
       "      <td>5</td>\n",
       "    </tr>\n",
       "  </tbody>\n",
       "</table>\n",
       "</div>"
      ],
      "text/plain": [
       "   PEDCOUNT  INDEX\n",
       "0     58626      1\n",
       "1      4649      2\n",
       "2       168      3\n",
       "3        16      4\n",
       "4         3      5"
      ]
     },
     "execution_count": 43,
     "metadata": {},
     "output_type": "execute_result"
    }
   ],
   "source": [
    "p"
   ]
  },
  {
   "cell_type": "code",
   "execution_count": 44,
   "metadata": {},
   "outputs": [
    {
     "data": {
      "image/png": "[encoded data removed]",
      "text/plain": [
       "<Figure size 648x360 with 1 Axes>"
      ]
     },
     "metadata": {},
     "output_type": "display_data"
    }
   ],
   "source": [
    "p.plot(kind='scatter', x='INDEX', y='PEDCOUNT', figsize=(9, 5), color='darkblue')\n",
    "\n",
    "plt.title('The relationship between the number of pedestrians and the number of car accidents')\n",
    "plt.xlabel('Number of pedestrians affected in a car accident')\n",
    "plt.ylabel('Number of car accidents')\n",
    "\n",
    "plt.show()"
   ]
  },
  {
   "cell_type": "code",
   "execution_count": 45,
   "metadata": {},
   "outputs": [],
   "source": [
    "ps=DataFrame(df['PERSONCOUNT'].value_counts())\n",
    "ps['INDEX']=ps.index+1"
   ]
  },
  {
   "cell_type": "code",
   "execution_count": 46,
   "metadata": {},
   "outputs": [
    {
     "data": {
      "text/html": [
       "<div>\n",
       "<style scoped>\n",
       "    .dataframe tbody tr th:only-of-type {\n",
       "        vertical-align: middle;\n",
       "    }\n",
       "\n",
       "    .dataframe tbody tr th {\n",
       "        vertical-align: top;\n",
       "    }\n",
       "\n",
       "    .dataframe thead th {\n",
       "        text-align: right;\n",
       "    }\n",
       "</style>\n",
       "<table border=\"1\" class=\"dataframe\">\n",
       "  <thead>\n",
       "    <tr style=\"text-align: right;\">\n",
       "      <th></th>\n",
       "      <th>PERSONCOUNT</th>\n",
       "      <th>INDEX</th>\n",
       "    </tr>\n",
       "  </thead>\n",
       "  <tbody>\n",
       "    <tr>\n",
       "      <th>2</th>\n",
       "      <td>35259</td>\n",
       "      <td>3</td>\n",
       "    </tr>\n",
       "    <tr>\n",
       "      <th>3</th>\n",
       "      <td>13551</td>\n",
       "      <td>4</td>\n",
       "    </tr>\n",
       "    <tr>\n",
       "      <th>4</th>\n",
       "      <td>5726</td>\n",
       "      <td>5</td>\n",
       "    </tr>\n",
       "    <tr>\n",
       "      <th>5</th>\n",
       "      <td>2713</td>\n",
       "      <td>6</td>\n",
       "    </tr>\n",
       "    <tr>\n",
       "      <th>1</th>\n",
       "      <td>2286</td>\n",
       "      <td>2</td>\n",
       "    </tr>\n",
       "    <tr>\n",
       "      <th>0</th>\n",
       "      <td>1974</td>\n",
       "      <td>1</td>\n",
       "    </tr>\n",
       "    <tr>\n",
       "      <th>6</th>\n",
       "      <td>1114</td>\n",
       "      <td>7</td>\n",
       "    </tr>\n",
       "    <tr>\n",
       "      <th>7</th>\n",
       "      <td>421</td>\n",
       "      <td>8</td>\n",
       "    </tr>\n",
       "    <tr>\n",
       "      <th>8</th>\n",
       "      <td>206</td>\n",
       "      <td>9</td>\n",
       "    </tr>\n",
       "    <tr>\n",
       "      <th>9</th>\n",
       "      <td>76</td>\n",
       "      <td>10</td>\n",
       "    </tr>\n",
       "    <tr>\n",
       "      <th>10</th>\n",
       "      <td>45</td>\n",
       "      <td>11</td>\n",
       "    </tr>\n",
       "    <tr>\n",
       "      <th>11</th>\n",
       "      <td>21</td>\n",
       "      <td>12</td>\n",
       "    </tr>\n",
       "    <tr>\n",
       "      <th>12</th>\n",
       "      <td>11</td>\n",
       "      <td>13</td>\n",
       "    </tr>\n",
       "    <tr>\n",
       "      <th>13</th>\n",
       "      <td>8</td>\n",
       "      <td>14</td>\n",
       "    </tr>\n",
       "    <tr>\n",
       "      <th>17</th>\n",
       "      <td>6</td>\n",
       "      <td>18</td>\n",
       "    </tr>\n",
       "    <tr>\n",
       "      <th>14</th>\n",
       "      <td>6</td>\n",
       "      <td>15</td>\n",
       "    </tr>\n",
       "    <tr>\n",
       "      <th>20</th>\n",
       "      <td>5</td>\n",
       "      <td>21</td>\n",
       "    </tr>\n",
       "    <tr>\n",
       "      <th>15</th>\n",
       "      <td>4</td>\n",
       "      <td>16</td>\n",
       "    </tr>\n",
       "    <tr>\n",
       "      <th>32</th>\n",
       "      <td>2</td>\n",
       "      <td>33</td>\n",
       "    </tr>\n",
       "    <tr>\n",
       "      <th>28</th>\n",
       "      <td>2</td>\n",
       "      <td>29</td>\n",
       "    </tr>\n",
       "    <tr>\n",
       "      <th>27</th>\n",
       "      <td>2</td>\n",
       "      <td>28</td>\n",
       "    </tr>\n",
       "    <tr>\n",
       "      <th>44</th>\n",
       "      <td>2</td>\n",
       "      <td>45</td>\n",
       "    </tr>\n",
       "    <tr>\n",
       "      <th>18</th>\n",
       "      <td>2</td>\n",
       "      <td>19</td>\n",
       "    </tr>\n",
       "    <tr>\n",
       "      <th>25</th>\n",
       "      <td>2</td>\n",
       "      <td>26</td>\n",
       "    </tr>\n",
       "    <tr>\n",
       "      <th>22</th>\n",
       "      <td>2</td>\n",
       "      <td>23</td>\n",
       "    </tr>\n",
       "    <tr>\n",
       "      <th>23</th>\n",
       "      <td>2</td>\n",
       "      <td>24</td>\n",
       "    </tr>\n",
       "    <tr>\n",
       "      <th>24</th>\n",
       "      <td>1</td>\n",
       "      <td>25</td>\n",
       "    </tr>\n",
       "    <tr>\n",
       "      <th>34</th>\n",
       "      <td>1</td>\n",
       "      <td>35</td>\n",
       "    </tr>\n",
       "    <tr>\n",
       "      <th>26</th>\n",
       "      <td>1</td>\n",
       "      <td>27</td>\n",
       "    </tr>\n",
       "    <tr>\n",
       "      <th>36</th>\n",
       "      <td>1</td>\n",
       "      <td>37</td>\n",
       "    </tr>\n",
       "    <tr>\n",
       "      <th>53</th>\n",
       "      <td>1</td>\n",
       "      <td>54</td>\n",
       "    </tr>\n",
       "    <tr>\n",
       "      <th>37</th>\n",
       "      <td>1</td>\n",
       "      <td>38</td>\n",
       "    </tr>\n",
       "    <tr>\n",
       "      <th>48</th>\n",
       "      <td>1</td>\n",
       "      <td>49</td>\n",
       "    </tr>\n",
       "    <tr>\n",
       "      <th>19</th>\n",
       "      <td>1</td>\n",
       "      <td>20</td>\n",
       "    </tr>\n",
       "    <tr>\n",
       "      <th>43</th>\n",
       "      <td>1</td>\n",
       "      <td>44</td>\n",
       "    </tr>\n",
       "    <tr>\n",
       "      <th>81</th>\n",
       "      <td>1</td>\n",
       "      <td>82</td>\n",
       "    </tr>\n",
       "    <tr>\n",
       "      <th>29</th>\n",
       "      <td>1</td>\n",
       "      <td>30</td>\n",
       "    </tr>\n",
       "    <tr>\n",
       "      <th>47</th>\n",
       "      <td>1</td>\n",
       "      <td>48</td>\n",
       "    </tr>\n",
       "    <tr>\n",
       "      <th>16</th>\n",
       "      <td>1</td>\n",
       "      <td>17</td>\n",
       "    </tr>\n",
       "    <tr>\n",
       "      <th>31</th>\n",
       "      <td>1</td>\n",
       "      <td>32</td>\n",
       "    </tr>\n",
       "  </tbody>\n",
       "</table>\n",
       "</div>"
      ],
      "text/plain": [
       "    PERSONCOUNT  INDEX\n",
       "2         35259      3\n",
       "3         13551      4\n",
       "4          5726      5\n",
       "5          2713      6\n",
       "1          2286      2\n",
       "0          1974      1\n",
       "6          1114      7\n",
       "7           421      8\n",
       "8           206      9\n",
       "9            76     10\n",
       "10           45     11\n",
       "11           21     12\n",
       "12           11     13\n",
       "13            8     14\n",
       "17            6     18\n",
       "14            6     15\n",
       "20            5     21\n",
       "15            4     16\n",
       "32            2     33\n",
       "28            2     29\n",
       "27            2     28\n",
       "44            2     45\n",
       "18            2     19\n",
       "25            2     26\n",
       "22            2     23\n",
       "23            2     24\n",
       "24            1     25\n",
       "34            1     35\n",
       "26            1     27\n",
       "36            1     37\n",
       "53            1     54\n",
       "37            1     38\n",
       "48            1     49\n",
       "19            1     20\n",
       "43            1     44\n",
       "81            1     82\n",
       "29            1     30\n",
       "47            1     48\n",
       "16            1     17\n",
       "31            1     32"
      ]
     },
     "execution_count": 46,
     "metadata": {},
     "output_type": "execute_result"
    }
   ],
   "source": [
    "ps"
   ]
  },
  {
   "cell_type": "code",
   "execution_count": 47,
   "metadata": {},
   "outputs": [
    {
     "data": {
      "image/png": "[encoded data removed]",
      "text/plain": [
       "<Figure size 720x648 with 1 Axes>"
      ]
     },
     "metadata": {},
     "output_type": "display_data"
    }
   ],
   "source": [
    "ps.plot(kind='scatter', x='INDEX', y='PERSONCOUNT', figsize=(10, 9), color='darkblue')\n",
    "\n",
    "plt.title('The relationship between the number of persons and the number of car accidents')\n",
    "plt.xlabel('Number of persons affected in a car accident')\n",
    "plt.ylabel('Number of car accidents')\n",
    "\n",
    "plt.show()"
   ]
  },
  {
   "cell_type": "code",
   "execution_count": 48,
   "metadata": {},
   "outputs": [
    {
     "data": {
      "text/html": [
       "<div>\n",
       "<style scoped>\n",
       "    .dataframe tbody tr th:only-of-type {\n",
       "        vertical-align: middle;\n",
       "    }\n",
       "\n",
       "    .dataframe tbody tr th {\n",
       "        vertical-align: top;\n",
       "    }\n",
       "\n",
       "    .dataframe thead th {\n",
       "        text-align: right;\n",
       "    }\n",
       "</style>\n",
       "<table border=\"1\" class=\"dataframe\">\n",
       "  <thead>\n",
       "    <tr style=\"text-align: right;\">\n",
       "      <th></th>\n",
       "      <th>PERSONCOUNT</th>\n",
       "      <th>PEDCOUNT</th>\n",
       "    </tr>\n",
       "  </thead>\n",
       "  <tbody>\n",
       "    <tr>\n",
       "      <th>count</th>\n",
       "      <td>63462.000000</td>\n",
       "      <td>63462.000000</td>\n",
       "    </tr>\n",
       "    <tr>\n",
       "      <th>mean</th>\n",
       "      <td>2.586020</td>\n",
       "      <td>0.079496</td>\n",
       "    </tr>\n",
       "    <tr>\n",
       "      <th>std</th>\n",
       "      <td>1.443722</td>\n",
       "      <td>0.283818</td>\n",
       "    </tr>\n",
       "    <tr>\n",
       "      <th>min</th>\n",
       "      <td>0.000000</td>\n",
       "      <td>0.000000</td>\n",
       "    </tr>\n",
       "    <tr>\n",
       "      <th>25%</th>\n",
       "      <td>2.000000</td>\n",
       "      <td>0.000000</td>\n",
       "    </tr>\n",
       "    <tr>\n",
       "      <th>50%</th>\n",
       "      <td>2.000000</td>\n",
       "      <td>0.000000</td>\n",
       "    </tr>\n",
       "    <tr>\n",
       "      <th>75%</th>\n",
       "      <td>3.000000</td>\n",
       "      <td>0.000000</td>\n",
       "    </tr>\n",
       "    <tr>\n",
       "      <th>max</th>\n",
       "      <td>81.000000</td>\n",
       "      <td>4.000000</td>\n",
       "    </tr>\n",
       "  </tbody>\n",
       "</table>\n",
       "</div>"
      ],
      "text/plain": [
       "        PERSONCOUNT      PEDCOUNT\n",
       "count  63462.000000  63462.000000\n",
       "mean       2.586020      0.079496\n",
       "std        1.443722      0.283818\n",
       "min        0.000000      0.000000\n",
       "25%        2.000000      0.000000\n",
       "50%        2.000000      0.000000\n",
       "75%        3.000000      0.000000\n",
       "max       81.000000      4.000000"
      ]
     },
     "execution_count": 48,
     "metadata": {},
     "output_type": "execute_result"
    }
   ],
   "source": [
    "df[['PERSONCOUNT','PEDCOUNT']].describe()"
   ]
  },
  {
   "cell_type": "code",
   "execution_count": 49,
   "metadata": {},
   "outputs": [
    {
     "name": "stdout",
     "output_type": "stream",
     "text": [
      "Solving environment: done\n",
      "\n",
      "## Package Plan ##\n",
      "\n",
      "  environment location: /opt/conda/envs/Python36\n",
      "\n",
      "  added / updated specs: \n",
      "    - seaborn\n",
      "\n",
      "\n",
      "The following packages will be downloaded:\n",
      "\n",
      "    package                    |            build\n",
      "    ---------------------------|-----------------\n",
      "    certifi-2020.6.20          |           py36_0         160 KB  anaconda\n",
      "    ca-certificates-2020.7.22  |                0         132 KB  anaconda\n",
      "    openssl-1.1.1g             |       h7b6447c_0         3.8 MB  anaconda\n",
      "    seaborn-0.10.1             |             py_0         160 KB  anaconda\n",
      "    ------------------------------------------------------------\n",
      "                                           Total:         4.2 MB\n",
      "\n",
      "The following packages will be UPDATED:\n",
      "\n",
      "    ca-certificates: 2020.6.24-0        --> 2020.7.22-0       anaconda\n",
      "    certifi:         2020.6.20-py36_0   --> 2020.6.20-py36_0  anaconda\n",
      "    openssl:         1.1.1g-h7b6447c_0  --> 1.1.1g-h7b6447c_0 anaconda\n",
      "    seaborn:         0.9.0-pyh91ea838_1 --> 0.10.1-py_0       anaconda\n",
      "\n",
      "\n",
      "Downloading and Extracting Packages\n",
      "certifi-2020.6.20    | 160 KB    | ##################################### | 100% \n",
      "ca-certificates-2020 | 132 KB    | ##################################### | 100% \n",
      "openssl-1.1.1g       | 3.8 MB    | ##################################### | 100% \n",
      "seaborn-0.10.1       | 160 KB    | ##################################### | 100% \n",
      "Preparing transaction: done\n",
      "Verifying transaction: done\n",
      "Executing transaction: done\n"
     ]
    }
   ],
   "source": [
    "!conda install -c anaconda seaborn -y"
   ]
  },
  {
   "cell_type": "code",
   "execution_count": 51,
   "metadata": {},
   "outputs": [
    {
     "data": {
      "image/png": "[encoded data removed]",
      "text/plain": [
       "<Figure size 432x216 with 2 Axes>"
      ]
     },
     "metadata": {},
     "output_type": "display_data"
    }
   ],
   "source": [
    "import seaborn as sns\n",
    "\n",
    "bins = np.linspace(df.OBJECTID.min(), df.OBJECTID.max(), 10)\n",
    "g = sns.FacetGrid(df, col=\"UNDERINFL\", hue=\"SEVERITYCODE\", palette=\"Set2\", col_wrap=2)\n",
    "g.map(plt.hist, 'OBJECTID', bins=bins, ec=\"k\")\n",
    "\n",
    "g.axes[-1].legend()\n",
    "plt.show()"
   ]
  },
  {
   "cell_type": "markdown",
   "metadata": {},
   "source": [
    "### Featureset selection"
   ]
  },
  {
   "cell_type": "code",
   "execution_count": 52,
   "metadata": {},
   "outputs": [],
   "source": [
    "featureset=df[['WEATHER','UNDERINFL','PERSONCOUNT','PEDCOUNT','LIGHTCOND','ROADCOND']]"
   ]
  },
  {
   "cell_type": "code",
   "execution_count": 53,
   "metadata": {},
   "outputs": [],
   "source": [
    "featureset = pd.concat([featureset,pd.get_dummies(df['WEATHER'])], axis=1)"
   ]
  },
  {
   "cell_type": "code",
   "execution_count": 54,
   "metadata": {},
   "outputs": [
    {
     "data": {
      "text/html": [
       "<div>\n",
       "<style scoped>\n",
       "    .dataframe tbody tr th:only-of-type {\n",
       "        vertical-align: middle;\n",
       "    }\n",
       "\n",
       "    .dataframe tbody tr th {\n",
       "        vertical-align: top;\n",
       "    }\n",
       "\n",
       "    .dataframe thead th {\n",
       "        text-align: right;\n",
       "    }\n",
       "</style>\n",
       "<table border=\"1\" class=\"dataframe\">\n",
       "  <thead>\n",
       "    <tr style=\"text-align: right;\">\n",
       "      <th></th>\n",
       "      <th>WEATHER</th>\n",
       "      <th>UNDERINFL</th>\n",
       "      <th>PERSONCOUNT</th>\n",
       "      <th>PEDCOUNT</th>\n",
       "      <th>LIGHTCOND</th>\n",
       "      <th>ROADCOND</th>\n",
       "      <th>Blowing Sand/Dirt</th>\n",
       "      <th>Clear</th>\n",
       "      <th>Fog/Smog/Smoke</th>\n",
       "      <th>Other</th>\n",
       "      <th>Overcast</th>\n",
       "      <th>Partly Cloudy</th>\n",
       "      <th>Raining</th>\n",
       "      <th>Severe Crosswind</th>\n",
       "      <th>Sleet/Hail/Freezing Rain</th>\n",
       "      <th>Snowing</th>\n",
       "      <th>Unknown</th>\n",
       "    </tr>\n",
       "  </thead>\n",
       "  <tbody>\n",
       "    <tr>\n",
       "      <th>0</th>\n",
       "      <td>Overcast</td>\n",
       "      <td>0</td>\n",
       "      <td>2</td>\n",
       "      <td>0</td>\n",
       "      <td>Daylight</td>\n",
       "      <td>Wet</td>\n",
       "      <td>0</td>\n",
       "      <td>0</td>\n",
       "      <td>0</td>\n",
       "      <td>0</td>\n",
       "      <td>1</td>\n",
       "      <td>0</td>\n",
       "      <td>0</td>\n",
       "      <td>0</td>\n",
       "      <td>0</td>\n",
       "      <td>0</td>\n",
       "      <td>0</td>\n",
       "    </tr>\n",
       "    <tr>\n",
       "      <th>4</th>\n",
       "      <td>Raining</td>\n",
       "      <td>0</td>\n",
       "      <td>2</td>\n",
       "      <td>0</td>\n",
       "      <td>Daylight</td>\n",
       "      <td>Wet</td>\n",
       "      <td>0</td>\n",
       "      <td>0</td>\n",
       "      <td>0</td>\n",
       "      <td>0</td>\n",
       "      <td>0</td>\n",
       "      <td>0</td>\n",
       "      <td>1</td>\n",
       "      <td>0</td>\n",
       "      <td>0</td>\n",
       "      <td>0</td>\n",
       "      <td>0</td>\n",
       "    </tr>\n",
       "    <tr>\n",
       "      <th>5</th>\n",
       "      <td>Clear</td>\n",
       "      <td>0</td>\n",
       "      <td>2</td>\n",
       "      <td>0</td>\n",
       "      <td>Daylight</td>\n",
       "      <td>Dry</td>\n",
       "      <td>0</td>\n",
       "      <td>1</td>\n",
       "      <td>0</td>\n",
       "      <td>0</td>\n",
       "      <td>0</td>\n",
       "      <td>0</td>\n",
       "      <td>0</td>\n",
       "      <td>0</td>\n",
       "      <td>0</td>\n",
       "      <td>0</td>\n",
       "      <td>0</td>\n",
       "    </tr>\n",
       "    <tr>\n",
       "      <th>6</th>\n",
       "      <td>Raining</td>\n",
       "      <td>0</td>\n",
       "      <td>2</td>\n",
       "      <td>0</td>\n",
       "      <td>Daylight</td>\n",
       "      <td>Wet</td>\n",
       "      <td>0</td>\n",
       "      <td>0</td>\n",
       "      <td>0</td>\n",
       "      <td>0</td>\n",
       "      <td>0</td>\n",
       "      <td>0</td>\n",
       "      <td>1</td>\n",
       "      <td>0</td>\n",
       "      <td>0</td>\n",
       "      <td>0</td>\n",
       "      <td>0</td>\n",
       "    </tr>\n",
       "    <tr>\n",
       "      <th>7</th>\n",
       "      <td>Clear</td>\n",
       "      <td>0</td>\n",
       "      <td>3</td>\n",
       "      <td>0</td>\n",
       "      <td>Daylight</td>\n",
       "      <td>Dry</td>\n",
       "      <td>0</td>\n",
       "      <td>1</td>\n",
       "      <td>0</td>\n",
       "      <td>0</td>\n",
       "      <td>0</td>\n",
       "      <td>0</td>\n",
       "      <td>0</td>\n",
       "      <td>0</td>\n",
       "      <td>0</td>\n",
       "      <td>0</td>\n",
       "      <td>0</td>\n",
       "    </tr>\n",
       "  </tbody>\n",
       "</table>\n",
       "</div>"
      ],
      "text/plain": [
       "    WEATHER  UNDERINFL  PERSONCOUNT  PEDCOUNT LIGHTCOND ROADCOND  \\\n",
       "0  Overcast          0            2         0  Daylight      Wet   \n",
       "4   Raining          0            2         0  Daylight      Wet   \n",
       "5     Clear          0            2         0  Daylight      Dry   \n",
       "6   Raining          0            2         0  Daylight      Wet   \n",
       "7     Clear          0            3         0  Daylight      Dry   \n",
       "\n",
       "   Blowing Sand/Dirt  Clear  Fog/Smog/Smoke  Other  Overcast  Partly Cloudy  \\\n",
       "0                  0      0               0      0         1              0   \n",
       "4                  0      0               0      0         0              0   \n",
       "5                  0      1               0      0         0              0   \n",
       "6                  0      0               0      0         0              0   \n",
       "7                  0      1               0      0         0              0   \n",
       "\n",
       "   Raining  Severe Crosswind  Sleet/Hail/Freezing Rain  Snowing  Unknown  \n",
       "0        0                 0                         0        0        0  \n",
       "4        1                 0                         0        0        0  \n",
       "5        0                 0                         0        0        0  \n",
       "6        1                 0                         0        0        0  \n",
       "7        0                 0                         0        0        0  "
      ]
     },
     "execution_count": 54,
     "metadata": {},
     "output_type": "execute_result"
    }
   ],
   "source": [
    "featureset.head()"
   ]
  },
  {
   "cell_type": "code",
   "execution_count": 55,
   "metadata": {},
   "outputs": [],
   "source": [
    "featureset = pd.concat([featureset,pd.get_dummies(df['LIGHTCOND'])], axis=1)"
   ]
  },
  {
   "cell_type": "code",
   "execution_count": 56,
   "metadata": {},
   "outputs": [],
   "source": [
    "featureset = pd.concat([featureset,pd.get_dummies(df['ROADCOND'])], axis=1)"
   ]
  },
  {
   "cell_type": "code",
   "execution_count": 57,
   "metadata": {},
   "outputs": [
    {
     "data": {
      "text/plain": [
       "Index(['WEATHER', 'UNDERINFL', 'PERSONCOUNT', 'PEDCOUNT', 'LIGHTCOND',\n",
       "       'ROADCOND', 'Blowing Sand/Dirt', 'Clear', 'Fog/Smog/Smoke', 'Other',\n",
       "       'Overcast', 'Partly Cloudy', 'Raining', 'Severe Crosswind',\n",
       "       'Sleet/Hail/Freezing Rain', 'Snowing', 'Unknown',\n",
       "       'Dark - No Street Lights', 'Dark - Street Lights Off',\n",
       "       'Dark - Street Lights On', 'Dark - Unknown Lighting', 'Dawn',\n",
       "       'Daylight', 'Dusk', 'Other', 'Unknown', 'Dry', 'Ice', 'Oil', 'Other',\n",
       "       'Sand/Mud/Dirt', 'Snow/Slush', 'Standing Water', 'Unknown', 'Wet'],\n",
       "      dtype='object')"
      ]
     },
     "execution_count": 57,
     "metadata": {},
     "output_type": "execute_result"
    }
   ],
   "source": [
    "featureset.columns"
   ]
  },
  {
   "cell_type": "code",
   "execution_count": 58,
   "metadata": {},
   "outputs": [],
   "source": [
    "featureset.drop(['WEATHER','ROADCOND','LIGHTCOND'], axis = 1,inplace=True)"
   ]
  },
  {
   "cell_type": "markdown",
   "metadata": {},
   "source": [
    "### ii. Inferential statistical testing"
   ]
  },
  {
   "cell_type": "code",
   "execution_count": 59,
   "metadata": {},
   "outputs": [],
   "source": [
    "from scipy import stats"
   ]
  },
  {
   "cell_type": "code",
   "execution_count": 60,
   "metadata": {},
   "outputs": [],
   "source": [
    "spearman1, p_value=stats.spearmanr(df['UNDERINFL'],df['SEVERITYCODE'])"
   ]
  },
  {
   "cell_type": "code",
   "execution_count": 61,
   "metadata": {},
   "outputs": [
    {
     "data": {
      "text/plain": [
       "0.030520403568489365"
      ]
     },
     "execution_count": 61,
     "metadata": {},
     "output_type": "execute_result"
    }
   ],
   "source": [
    "spearman1"
   ]
  },
  {
   "cell_type": "code",
   "execution_count": 62,
   "metadata": {},
   "outputs": [
    {
     "data": {
      "text/plain": [
       "1.468617911221269e-14"
      ]
     },
     "execution_count": 62,
     "metadata": {},
     "output_type": "execute_result"
    }
   ],
   "source": [
    "p_value"
   ]
  },
  {
   "cell_type": "code",
   "execution_count": 63,
   "metadata": {},
   "outputs": [],
   "source": [
    "spearman2, p_value2=stats.spearmanr(df['PERSONCOUNT'],df['SEVERITYCODE'])"
   ]
  },
  {
   "cell_type": "code",
   "execution_count": 64,
   "metadata": {},
   "outputs": [
    {
     "data": {
      "text/plain": [
       "0.07969146020054005"
      ]
     },
     "execution_count": 64,
     "metadata": {},
     "output_type": "execute_result"
    }
   ],
   "source": [
    "spearman2"
   ]
  },
  {
   "cell_type": "code",
   "execution_count": 65,
   "metadata": {},
   "outputs": [
    {
     "data": {
      "text/plain": [
       "6.383470174888863e-90"
      ]
     },
     "execution_count": 65,
     "metadata": {},
     "output_type": "execute_result"
    }
   ],
   "source": [
    "p_value2"
   ]
  },
  {
   "cell_type": "code",
   "execution_count": 66,
   "metadata": {},
   "outputs": [],
   "source": [
    "spearman3, p_value3=stats.spearmanr(df['PEDCOUNT'],df['SEVERITYCODE'])"
   ]
  },
  {
   "cell_type": "code",
   "execution_count": 67,
   "metadata": {},
   "outputs": [
    {
     "data": {
      "text/plain": [
       "0.2701512650873703"
      ]
     },
     "execution_count": 67,
     "metadata": {},
     "output_type": "execute_result"
    }
   ],
   "source": [
    "spearman3"
   ]
  },
  {
   "cell_type": "code",
   "execution_count": 68,
   "metadata": {},
   "outputs": [
    {
     "data": {
      "text/plain": [
       "0.0"
      ]
     },
     "execution_count": 68,
     "metadata": {},
     "output_type": "execute_result"
    }
   ],
   "source": [
    "p_value3"
   ]
  },
  {
   "cell_type": "code",
   "execution_count": 69,
   "metadata": {},
   "outputs": [],
   "source": [
    "spearman4, p_value4=stats.spearmanr(featureset['Raining'],df['SEVERITYCODE'])"
   ]
  },
  {
   "cell_type": "code",
   "execution_count": 71,
   "metadata": {},
   "outputs": [
    {
     "data": {
      "text/plain": [
       "0.006457564077410389"
      ]
     },
     "execution_count": 71,
     "metadata": {},
     "output_type": "execute_result"
    }
   ],
   "source": [
    "spearman4"
   ]
  },
  {
   "cell_type": "code",
   "execution_count": 72,
   "metadata": {},
   "outputs": [
    {
     "data": {
      "text/plain": [
       "0.1037896003190338"
      ]
     },
     "execution_count": 72,
     "metadata": {},
     "output_type": "execute_result"
    }
   ],
   "source": [
    "p_value4"
   ]
  },
  {
   "cell_type": "code",
   "execution_count": 74,
   "metadata": {},
   "outputs": [
    {
     "data": {
      "text/plain": [
       "-0.00023801447603085443"
      ]
     },
     "execution_count": 74,
     "metadata": {},
     "output_type": "execute_result"
    }
   ],
   "source": [
    "spearman5,p_value5=stats.spearmanr(featureset['Dark - Street Lights Off'],df['SEVERITYCODE'])\n",
    "spearman5"
   ]
  },
  {
   "cell_type": "code",
   "execution_count": 75,
   "metadata": {},
   "outputs": [
    {
     "data": {
      "text/plain": [
       "0.9521885838869751"
      ]
     },
     "execution_count": 75,
     "metadata": {},
     "output_type": "execute_result"
    }
   ],
   "source": [
    "p_value5"
   ]
  },
  {
   "cell_type": "code",
   "execution_count": 76,
   "metadata": {},
   "outputs": [
    {
     "data": {
      "text/plain": [
       "-0.004708715727059873"
      ]
     },
     "execution_count": 76,
     "metadata": {},
     "output_type": "execute_result"
    }
   ],
   "source": [
    "spearman6,p_value6=stats.spearmanr(featureset['Standing Water'],df['SEVERITYCODE'])\n",
    "spearman6"
   ]
  },
  {
   "cell_type": "code",
   "execution_count": 77,
   "metadata": {},
   "outputs": [
    {
     "data": {
      "text/plain": [
       "0.23554841324300857"
      ]
     },
     "execution_count": 77,
     "metadata": {},
     "output_type": "execute_result"
    }
   ],
   "source": [
    "p_value6"
   ]
  },
  {
   "cell_type": "code",
   "execution_count": 78,
   "metadata": {},
   "outputs": [
    {
     "data": {
      "text/plain": [
       "0.017285109878295717"
      ]
     },
     "execution_count": 78,
     "metadata": {},
     "output_type": "execute_result"
    }
   ],
   "source": [
    "spearman7,p_value7=stats.spearmanr(featureset['Daylight'],df['SEVERITYCODE'])\n",
    "spearman7"
   ]
  },
  {
   "cell_type": "code",
   "execution_count": 79,
   "metadata": {},
   "outputs": [
    {
     "data": {
      "text/plain": [
       "1.3328179125477778e-05"
      ]
     },
     "execution_count": 79,
     "metadata": {},
     "output_type": "execute_result"
    }
   ],
   "source": [
    "p_value7"
   ]
  },
  {
   "cell_type": "code",
   "execution_count": 80,
   "metadata": {},
   "outputs": [
    {
     "data": {
      "text/plain": [
       "-0.001350555101662847"
      ]
     },
     "execution_count": 80,
     "metadata": {},
     "output_type": "execute_result"
    }
   ],
   "source": [
    "spearman8,p_value8=stats.spearmanr(featureset['Sand/Mud/Dirt'],df['SEVERITYCODE'])\n",
    "spearman8"
   ]
  },
  {
   "cell_type": "code",
   "execution_count": 81,
   "metadata": {},
   "outputs": [
    {
     "data": {
      "text/plain": [
       "0.7336902746166554"
      ]
     },
     "execution_count": 81,
     "metadata": {},
     "output_type": "execute_result"
    }
   ],
   "source": [
    "p_value8"
   ]
  },
  {
   "cell_type": "markdown",
   "metadata": {},
   "source": [
    "### iii. Machine Learning Models"
   ]
  },
  {
   "cell_type": "markdown",
   "metadata": {},
   "source": [
    "## Support Vector Machine (SVM)"
   ]
  },
  {
   "cell_type": "code",
   "execution_count": 82,
   "metadata": {},
   "outputs": [],
   "source": [
    "X=featureset"
   ]
  },
  {
   "cell_type": "code",
   "execution_count": 83,
   "metadata": {},
   "outputs": [],
   "source": [
    "y=df['SEVERITYCODE'].values"
   ]
  },
  {
   "cell_type": "code",
   "execution_count": 84,
   "metadata": {},
   "outputs": [
    {
     "data": {
      "text/plain": [
       "array([2, 2, 1, 1, 2])"
      ]
     },
     "execution_count": 84,
     "metadata": {},
     "output_type": "execute_result"
    }
   ],
   "source": [
    "y[0:5]"
   ]
  },
  {
   "cell_type": "code",
   "execution_count": 85,
   "metadata": {},
   "outputs": [
    {
     "name": "stderr",
     "output_type": "stream",
     "text": [
      "/opt/conda/envs/Python36/lib/python3.6/site-packages/sklearn/preprocessing/data.py:645: DataConversionWarning: Data with input dtype uint8, int64 were all converted to float64 by StandardScaler.\n",
      "  return self.partial_fit(X, y)\n",
      "/opt/conda/envs/Python36/lib/python3.6/site-packages/ipykernel/__main__.py:1: DataConversionWarning: Data with input dtype uint8, int64 were all converted to float64 by StandardScaler.\n",
      "  if __name__ == '__main__':\n"
     ]
    },
    {
     "data": {
      "text/plain": [
       "array([[-0.19088162, -0.40591228, -0.28009889, -0.01255386, -1.26429913,\n",
       "        -0.05392405, -0.04582732,  2.34242763, -0.00687565, -0.49545566,\n",
       "        -0.00887657, -0.02542584, -0.05830412, -0.15775471, -0.07096554,\n",
       "        -0.0751086 , -0.58403418, -0.00793938, -0.12027804,  0.70625457,\n",
       "        -0.18572258, -0.02415297, -0.14134292, -1.48743153, -0.05537437,\n",
       "        -0.01375228, -0.0194505 , -0.01431394, -0.05622682, -0.01775524,\n",
       "        -0.15495183,  1.60139935],\n",
       "       [-0.19088162, -0.40591228, -0.28009889, -0.01255386, -1.26429913,\n",
       "        -0.05392405, -0.04582732, -0.42690753, -0.00687565,  2.01834408,\n",
       "        -0.00887657, -0.02542584, -0.05830412, -0.15775471, -0.07096554,\n",
       "        -0.0751086 , -0.58403418, -0.00793938, -0.12027804,  0.70625457,\n",
       "        -0.18572258, -0.02415297, -0.14134292, -1.48743153, -0.05537437,\n",
       "        -0.01375228, -0.0194505 , -0.01431394, -0.05622682, -0.01775524,\n",
       "        -0.15495183,  1.60139935],\n",
       "       [-0.19088162, -0.40591228, -0.28009889, -0.01255386,  0.79095206,\n",
       "        -0.05392405, -0.04582732, -0.42690753, -0.00687565, -0.49545566,\n",
       "        -0.00887657, -0.02542584, -0.05830412, -0.15775471, -0.07096554,\n",
       "        -0.0751086 , -0.58403418, -0.00793938, -0.12027804,  0.70625457,\n",
       "        -0.18572258, -0.02415297, -0.14134292,  0.67229986, -0.05537437,\n",
       "        -0.01375228, -0.0194505 , -0.01431394, -0.05622682, -0.01775524,\n",
       "        -0.15495183, -0.62445385],\n",
       "       [-0.19088162, -0.40591228, -0.28009889, -0.01255386, -1.26429913,\n",
       "        -0.05392405, -0.04582732, -0.42690753, -0.00687565,  2.01834408,\n",
       "        -0.00887657, -0.02542584, -0.05830412, -0.15775471, -0.07096554,\n",
       "        -0.0751086 , -0.58403418, -0.00793938, -0.12027804,  0.70625457,\n",
       "        -0.18572258, -0.02415297, -0.14134292, -1.48743153, -0.05537437,\n",
       "        -0.01375228, -0.0194505 , -0.01431394, -0.05622682, -0.01775524,\n",
       "        -0.15495183,  1.60139935],\n",
       "       [-0.19088162,  0.28674718, -0.28009889, -0.01255386,  0.79095206,\n",
       "        -0.05392405, -0.04582732, -0.42690753, -0.00687565, -0.49545566,\n",
       "        -0.00887657, -0.02542584, -0.05830412, -0.15775471, -0.07096554,\n",
       "        -0.0751086 , -0.58403418, -0.00793938, -0.12027804,  0.70625457,\n",
       "        -0.18572258, -0.02415297, -0.14134292,  0.67229986, -0.05537437,\n",
       "        -0.01375228, -0.0194505 , -0.01431394, -0.05622682, -0.01775524,\n",
       "        -0.15495183, -0.62445385]])"
      ]
     },
     "execution_count": 85,
     "metadata": {},
     "output_type": "execute_result"
    }
   ],
   "source": [
    "X = preprocessing.StandardScaler().fit(X).transform(X)\n",
    "X[0:5]"
   ]
  },
  {
   "cell_type": "code",
   "execution_count": 86,
   "metadata": {},
   "outputs": [
    {
     "name": "stdout",
     "output_type": "stream",
     "text": [
      "Train set: (50769, 32) (50769,)\n",
      "Test set: (12693, 32) (12693,)\n"
     ]
    }
   ],
   "source": [
    "from sklearn.model_selection import train_test_split\n",
    "X_train, X_test, y_train, y_test = train_test_split(X, y, test_size=0.2, random_state=4)\n",
    "print ('Train set:', X_train.shape,  y_train.shape)\n",
    "print ('Test set:', X_test.shape,  y_test.shape)"
   ]
  },
  {
   "cell_type": "code",
   "execution_count": 87,
   "metadata": {},
   "outputs": [
    {
     "data": {
      "text/plain": [
       "SVC(C=1.0, cache_size=200, class_weight=None, coef0=0.0,\n",
       "  decision_function_shape='ovr', degree=3, gamma='scale', kernel='rbf',\n",
       "  max_iter=-1, probability=False, random_state=None, shrinking=True,\n",
       "  tol=0.001, verbose=False)"
      ]
     },
     "execution_count": 87,
     "metadata": {},
     "output_type": "execute_result"
    }
   ],
   "source": [
    "from sklearn import svm\n",
    "SVM_model = svm.SVC(gamma='scale')\n",
    "SVM_model.fit(X_train, y_train) "
   ]
  },
  {
   "cell_type": "code",
   "execution_count": 89,
   "metadata": {},
   "outputs": [
    {
     "data": {
      "text/plain": [
       "array([1, 1, 1, ..., 1, 1, 1])"
      ]
     },
     "execution_count": 89,
     "metadata": {},
     "output_type": "execute_result"
    }
   ],
   "source": [
    "yhat = SVM_model.predict(X_test)\n",
    "yhat"
   ]
  },
  {
   "cell_type": "code",
   "execution_count": 90,
   "metadata": {},
   "outputs": [],
   "source": [
    "from sklearn.metrics import classification_report, confusion_matrix"
   ]
  },
  {
   "cell_type": "code",
   "execution_count": 91,
   "metadata": {},
   "outputs": [
    {
     "name": "stdout",
     "output_type": "stream",
     "text": [
      "              precision    recall  f1-score   support\n",
      "\n",
      "           1       0.61      0.97      0.75      7188\n",
      "           2       0.84      0.19      0.31      5505\n",
      "\n",
      "   micro avg       0.63      0.63      0.63     12693\n",
      "   macro avg       0.73      0.58      0.53     12693\n",
      "weighted avg       0.71      0.63      0.56     12693\n",
      "\n",
      "Confusion matrix, without normalization\n",
      "[[6991  197]\n",
      " [4458 1047]]\n"
     ]
    },
    {
     "data": {
      "image/png": "[encoded data removed]",
      "text/plain": [
       "<Figure size 432x288 with 2 Axes>"
      ]
     },
     "metadata": {},
     "output_type": "display_data"
    }
   ],
   "source": [
    "def plot_confusion_matrix(cm, classes,\n",
    "                          normalize=False,\n",
    "                          title='Confusion matrix',\n",
    "                          cmap=plt.cm.Blues):\n",
    "    if normalize:\n",
    "        cm = cm.astype('float') / cm.sum(axis=1)[:, np.newaxis]\n",
    "        print(\"Normalized confusion matrix\")\n",
    "    else:\n",
    "        print('Confusion matrix, without normalization')\n",
    "\n",
    "    print(cm)\n",
    "\n",
    "    plt.imshow(cm, interpolation='nearest', cmap=cmap)\n",
    "    plt.title(title)\n",
    "    plt.colorbar()\n",
    "    tick_marks = np.arange(len(classes))\n",
    "    plt.xticks(tick_marks, classes, rotation=45)\n",
    "    plt.yticks(tick_marks, classes)\n",
    "\n",
    "    fmt = '.2f' if normalize else 'd'\n",
    "    thresh = cm.max() / 2.\n",
    "    for i, j in itertools.product(range(cm.shape[0]), range(cm.shape[1])):\n",
    "        plt.text(j, i, format(cm[i, j], fmt),\n",
    "                 horizontalalignment=\"center\",\n",
    "                 color=\"white\" if cm[i, j] > thresh else \"black\")\n",
    "\n",
    "    plt.tight_layout()\n",
    "    plt.ylabel('True label')\n",
    "    plt.xlabel('Predicted label')\n",
    "\n",
    "# Compute confusion matrix\n",
    "cnf_matrix = confusion_matrix(y_test, yhat, labels=[1,2])\n",
    "np.set_printoptions(precision=2)\n",
    "\n",
    "print (classification_report(y_test, yhat))\n",
    "\n",
    "# Plot non-normalized confusion matrix\n",
    "plt.figure()\n",
    "plot_confusion_matrix(cnf_matrix, classes=[1,2],normalize= False,  title='Confusion matrix')"
   ]
  },
  {
   "cell_type": "code",
   "execution_count": 92,
   "metadata": {},
   "outputs": [
    {
     "data": {
      "text/plain": [
       "0.5594158617301305"
      ]
     },
     "execution_count": 92,
     "metadata": {},
     "output_type": "execute_result"
    }
   ],
   "source": [
    "from sklearn.metrics import f1_score\n",
    "f1_score(y_test, yhat, average='weighted')"
   ]
  },
  {
   "cell_type": "code",
   "execution_count": 93,
   "metadata": {},
   "outputs": [
    {
     "data": {
      "text/plain": [
       "0.6332624281099819"
      ]
     },
     "execution_count": 93,
     "metadata": {},
     "output_type": "execute_result"
    }
   ],
   "source": [
    "from sklearn.metrics import jaccard_similarity_score\n",
    "jaccard_similarity_score(y_test, yhat)"
   ]
  },
  {
   "cell_type": "markdown",
   "metadata": {},
   "source": [
    "## Logistic Regression (LR)"
   ]
  },
  {
   "cell_type": "code",
   "execution_count": 94,
   "metadata": {},
   "outputs": [
    {
     "data": {
      "text/plain": [
       "LogisticRegression(C=0.01, class_weight=None, dual=False, fit_intercept=True,\n",
       "          intercept_scaling=1, max_iter=100, multi_class='warn',\n",
       "          n_jobs=None, penalty='l2', random_state=None, solver='liblinear',\n",
       "          tol=0.0001, verbose=0, warm_start=False)"
      ]
     },
     "execution_count": 94,
     "metadata": {},
     "output_type": "execute_result"
    }
   ],
   "source": [
    "from sklearn.linear_model import LogisticRegression\n",
    "LR_model = LogisticRegression(C=0.01,solver='liblinear').fit(X_train,y_train)\n",
    "LR_model"
   ]
  },
  {
   "cell_type": "code",
   "execution_count": 95,
   "metadata": {},
   "outputs": [
    {
     "data": {
      "text/plain": [
       "array([1, 1, 1, ..., 1, 1, 1])"
      ]
     },
     "execution_count": 95,
     "metadata": {},
     "output_type": "execute_result"
    }
   ],
   "source": [
    "yhat2 = LR_model.predict(X_test)\n",
    "yhat2"
   ]
  },
  {
   "cell_type": "code",
   "execution_count": 96,
   "metadata": {},
   "outputs": [
    {
     "data": {
      "text/plain": [
       "array([[0.63, 0.37],\n",
       "       [0.61, 0.39],\n",
       "       [0.63, 0.37],\n",
       "       ...,\n",
       "       [0.67, 0.33],\n",
       "       [0.56, 0.44],\n",
       "       [0.67, 0.33]])"
      ]
     },
     "execution_count": 96,
     "metadata": {},
     "output_type": "execute_result"
    }
   ],
   "source": [
    "yhat_prob = LR_model.predict_proba(X_test)\n",
    "yhat_prob"
   ]
  },
  {
   "cell_type": "code",
   "execution_count": 97,
   "metadata": {},
   "outputs": [
    {
     "data": {
      "text/plain": [
       "0.6326192709245222"
      ]
     },
     "execution_count": 97,
     "metadata": {},
     "output_type": "execute_result"
    }
   ],
   "source": [
    "from sklearn.metrics import log_loss\n",
    "log_loss(y_test, yhat_prob)"
   ]
  },
  {
   "cell_type": "code",
   "execution_count": 98,
   "metadata": {},
   "outputs": [
    {
     "data": {
      "text/plain": [
       "0.5658557811404462"
      ]
     },
     "execution_count": 98,
     "metadata": {},
     "output_type": "execute_result"
    }
   ],
   "source": [
    "f1_score(y_test, yhat2, average='weighted')"
   ]
  },
  {
   "cell_type": "code",
   "execution_count": 99,
   "metadata": {},
   "outputs": [
    {
     "data": {
      "text/plain": [
       "0.6339714803434964"
      ]
     },
     "execution_count": 99,
     "metadata": {},
     "output_type": "execute_result"
    }
   ],
   "source": [
    "jaccard_similarity_score(y_test, yhat2)"
   ]
  },
  {
   "cell_type": "markdown",
   "metadata": {},
   "source": [
    "## For _Discussion_ and _Conclusion_ please refer to the full report.\n",
    "\n",
    "#### Thank you very much for your consideration and time."
   ]
  },
  {
   "cell_type": "code",
   "execution_count": null,
   "metadata": {},
   "outputs": [],
   "source": []
  }
 ],
 "metadata": {
  "kernelspec": {
   "display_name": "Python 3.6",
   "language": "python",
   "name": "python3"
  },
  "language_info": {
   "codemirror_mode": {
    "name": "ipython",
    "version": 3
   },
   "file_extension": ".py",
   "mimetype": "text/x-python",
   "name": "python",
   "nbconvert_exporter": "python",
   "pygments_lexer": "ipython3",
   "version": "3.6.9"
  }
 },
 "nbformat": 4,
 "nbformat_minor": 4
}
